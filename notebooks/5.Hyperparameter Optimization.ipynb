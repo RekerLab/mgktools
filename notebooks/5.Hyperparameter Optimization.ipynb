{
 "cells": [
  {
   "cell_type": "markdown",
   "id": "85c13471",
   "metadata": {},
   "source": [
    "# Marginalized Graph Kernel (MGK) Architecture"
   ]
  },
  {
   "cell_type": "code",
   "execution_count": 1,
   "id": "bc096436",
   "metadata": {
    "scrolled": true
   },
   "outputs": [
    {
     "data": {
      "text/plain": [
       "{'Normalization': [10000, [1000, 30000]],\n",
       " 'a_type': ['Tensorproduct', 'fixed'],\n",
       " 'atom_AtomicNumber': {'kDelta': [0.75, [0.75, 1.0], 0.05]},\n",
       " 'atom_AtomicNumber_list_1': {'kConv': [0.9, [0.75, 1.0], 0.05]},\n",
       " 'atom_AtomicNumber_list_2': {'kConv': [0.9, [0.75, 1.0], 0.05]},\n",
       " 'atom_AtomicNumber_list_3': {'kConv': [0.9, [0.75, 1.0], 0.05]},\n",
       " 'atom_AtomicNumber_list_4': {'kConv': [0.9, [0.75, 1.0], 0.05]},\n",
       " 'atom_MorganHash': {'kDelta': [0.9, [0.75, 1.0], 0.05]},\n",
       " 'atom_Ring_count': {'kDelta': [0.9, [0.75, 1.0], 0.05]},\n",
       " 'atom_RingSize_list': {'kConv': [0.9, [0.75, 1.0], 0.05]},\n",
       " 'atom_Hcount': {'kDelta': [0.9, [0.75, 1.0], 0.05]},\n",
       " 'atom_AtomicNumber_count_1': {'kDelta': [0.9, [0.75, 1.0], 0.05]},\n",
       " 'atom_AtomicNumber_count_2': {'kDelta': [0.9, [0.75, 1.0], 0.05]},\n",
       " 'atom_Chiral': {'kDelta': [0.9, [0.75, 1.0], 0.05]},\n",
       " 'b_type': ['Tensorproduct', 'fixed'],\n",
       " 'bond_Order': {'kDelta': [0.9, [0.75, 1.0], 0.05]},\n",
       " 'bond_Stereo': {'kDelta': [0.9, [0.75, 1.0], 0.05]},\n",
       " 'bond_RingStereo': {'kDelta': [0.9, [0.75, 1.0], 0.05]},\n",
       " 'p_type': ['Additive_p', 'fixed'],\n",
       " 'probability_AtomicNumber': {'Const_p': [1.0, 'fixed']},\n",
       " 'q': [0.01, [0.01, 0.5], 0.01]}"
      ]
     },
     "execution_count": 1,
     "metadata": {},
     "output_type": "execute_result"
    }
   ],
   "source": [
    "# How to define the architecture of MGK is still an open question.\n",
    "# In mgktools package, the architecture of MGK is defined in a json file.\n",
    "# In default, mgktools provides 8 sets of choices. \n",
    "# For details, please refer to:\n",
    "# Xiang Y, Tang Y H, Liu H, et al. JPCA, 2021, 125(20): 4488-4497.\n",
    "# Xiang Y, Tang Y H, Lin G, et al. JCIM, 2021, 61(11): 5414-5424.\n",
    "from mgktools.hyperparameters import product, product_norm, product_msnorm, product_pnorm\n",
    "from mgktools.hyperparameters import additive, additive_norm, additive_msnorm, additive_pnorm\n",
    "import json\n",
    "# product_msnorm means combining different features through product, and using molecular-sized normalization.\n",
    "# This is used in the JPCA paper.\n",
    "json.load(open(product_msnorm))"
   ]
  },
  {
   "cell_type": "markdown",
   "id": "df4b409d",
   "metadata": {},
   "source": [
    "# Bayesian Optimization"
   ]
  },
  {
   "cell_type": "code",
   "execution_count": 2,
   "id": "91548daa",
   "metadata": {},
   "outputs": [
    {
     "name": "stderr",
     "output_type": "stream",
     "text": [
      "WARNING:root:No normalization for BCUT2D_MWHI\n",
      "WARNING:root:No normalization for BCUT2D_MWLOW\n",
      "WARNING:root:No normalization for BCUT2D_CHGHI\n",
      "WARNING:root:No normalization for BCUT2D_CHGLO\n",
      "WARNING:root:No normalization for BCUT2D_LOGPHI\n",
      "WARNING:root:No normalization for BCUT2D_LOGPLOW\n",
      "WARNING:root:No normalization for BCUT2D_MRHI\n",
      "WARNING:root:No normalization for BCUT2D_MRLOW\n"
     ]
    }
   ],
   "source": [
    "# Dataset.\n",
    "from mgktools.data.data import Dataset\n",
    "dataset = Dataset.load(path='freesolv', filename='dataset.pkl')\n",
    "dataset.graph_kernel_type = 'graph'"
   ]
  },
  {
   "cell_type": "code",
   "execution_count": 3,
   "id": "403c2017",
   "metadata": {},
   "outputs": [
    {
     "name": "stderr",
     "output_type": "stream",
     "text": [
      "/home/xiangyan/apps/miniconda3/envs/mgktools/lib/python3.8/site-packages/graphdot/codegen/sympy_printer.py:4: SymPyDeprecationWarning: \n",
      "\n",
      "The sympy.printing.cxxcode submodule is deprecated. It has been renamed to\n",
      "sympy.printing.cxx.\n",
      "\n",
      "See https://docs.sympy.org/latest/explanation/active-deprecations.html#deprecated-printing-code-submodules\n",
      "for details.\n",
      "\n",
      "This has been deprecated since SymPy version 1.7. It\n",
      "will be removed in a future version of SymPy.\n",
      "\n",
      "  from sympy.printing.cxxcode import CXX11CodePrinter\n"
     ]
    }
   ],
   "source": [
    "# kernel\n",
    "kernel_type = 'additive_pnorm'\n",
    "from mgktools.kernels.utils import get_kernel_config\n",
    "kernel_config = get_kernel_config(\n",
    "    dataset,\n",
    "    graph_kernel_type = 'graph',\n",
    "    # arguments for marginalized graph kernel\n",
    "    mgk_hyperparameters_files = [additive_pnorm],\n",
    ")"
   ]
  },
  {
   "cell_type": "code",
   "execution_count": 4,
   "id": "e57acac9",
   "metadata": {
    "scrolled": true
   },
   "outputs": [
    {
     "name": "stdout",
     "output_type": "stream",
     "text": [
      "100%|███████████████████████████████████████████████████████████████████████████████████████████████████████████████████████████████████| 100/100 [12:37<00:00,  7.57s/trial, best loss: 1.0801048910064448]       \n"
     ]
    }
   ],
   "source": [
    "# Use hyperopt Python package.\n",
    "import os\n",
    "if not os.path.exists('freesolv/hyperopt'):\n",
    "    os.mkdir('freesolv/hyperopt')\n",
    "    if not os.path.exists('freesolv/hyperopt/%s' % kernel_type):\n",
    "        os.mkdir('freesolv/hyperopt/%s' % kernel_type)\n",
    "from mgktools.hyperparameters.hyperopt import bayesian_optimization\n",
    "best_hyperdict, results, hyperdicts = \\\n",
    "bayesian_optimization(save_dir='freesolv/hyperopt/%s' % kernel_type,\n",
    "                      dataset=dataset,\n",
    "                      kernel_config=kernel_config,\n",
    "                      model_type='gpr',\n",
    "                      task_type='regression',\n",
    "                      metric='rmse',\n",
    "                      split_type='loocv',\n",
    "                      alpha_bounds=(0.001, 0.02),\n",
    "                      d_alpha=0.001)"
   ]
  },
  {
   "cell_type": "markdown",
   "id": "1a49ebb7",
   "metadata": {},
   "source": [
    "# Gradient-Based Optimization"
   ]
  },
  {
   "cell_type": "code",
   "execution_count": 5,
   "id": "6d722661",
   "metadata": {},
   "outputs": [],
   "source": [
    "kernel_config = get_kernel_config(\n",
    "    dataset,\n",
    "    graph_kernel_type = 'graph',\n",
    "    # arguments for marginalized graph kernel\n",
    "    mgk_hyperparameters_files = ['freesolv/hyperopt/%s/hyperparameters_0.json' % kernel_type],\n",
    ")\n",
    "kernel = kernel_config.kernel\n",
    "alpha = float(open('freesolv/hyperopt/%s/alpha' % kernel_type, 'r').readline())"
   ]
  },
  {
   "cell_type": "code",
   "execution_count": 6,
   "id": "8c9a60cd",
   "metadata": {},
   "outputs": [
    {
     "name": "stdout",
     "output_type": "stream",
     "text": [
      "|     Sq.Err.|    d(SqErr)|     log|K| |     Cond(K)| t_GPU (s)| t_CPU (s)|\n",
      "|------------|------------|------------|------------|----------|----------|\n",
      "|      25.323|      25.323|     -2912.6|   1.023e+06|        77|      0.22|\n",
      "|      26.002|      26.002|       -2411|  1.1529e+06|        13|      0.23|\n",
      "|       23.31|       23.31|     -2602.8|  1.0993e+06|        13|      0.23|\n",
      "|      24.434|      24.434|     -1977.7|  1.1291e+06|        13|      0.22|\n",
      "|      23.439|      23.439|     -2294.9|  1.1098e+06|        13|      0.23|\n",
      "|       23.28|       23.28|     -2487.9|  1.1021e+06|        13|      0.22|\n",
      "|      23.259|      23.259|     -2491.3|  1.1047e+06|        13|      0.22|\n",
      "|      23.158|      23.158|     -2549.6|  1.1094e+06|        13|      0.22|\n",
      "|      23.221|      23.221|     -2537.3|  1.1155e+06|        13|      0.22|\n",
      "|      23.081|      23.081|     -2541.2|  1.1121e+06|        13|      0.21|\n",
      "|      23.023|      23.023|     -2516.6|  1.1157e+06|        13|      0.22|\n",
      "|      23.049|      23.049|       -2538|  1.1122e+06|        13|      0.22|\n",
      "|      22.942|      22.942|     -2525.8|  1.1134e+06|        13|      0.22|\n",
      "|      22.991|      22.991|     -2320.2|  1.1228e+06|        13|      0.21|\n",
      "|      22.862|      22.862|     -2431.9|  1.1156e+06|        13|      0.23|\n",
      "|      22.735|      22.735|     -2487.2|   1.112e+06|        13|      0.22|\n",
      "|       22.74|       22.74|     -2617.3|  1.0862e+06|        13|      0.21|\n",
      "|      22.526|      22.526|     -2556.9|  1.0969e+06|        13|      0.22|\n",
      "|      22.609|      22.609|     -2595.8|  1.0904e+06|        13|      0.23|\n",
      "|      22.492|      22.492|     -2573.2|  1.0935e+06|        13|      0.21|\n",
      "|      22.459|      22.459|     -2568.3|  1.0789e+06|        13|      0.22|\n",
      "|      22.489|      22.489|     -2544.5|  1.0656e+06|        13|       1.5|\n",
      "|      22.454|      22.454|     -2558.9|  1.0747e+06|        13|      0.24|\n",
      "|      22.374|      22.374|     -2557.4|  1.0782e+06|        13|      0.24|\n",
      "|      22.285|      22.285|     -2621.6|  1.0682e+06|        13|      0.24|\n",
      "|      22.269|      22.269|     -2642.2|  1.0665e+06|        13|      0.23|\n",
      "|      22.263|      22.263|     -2652.3|  1.0634e+06|        13|      0.24|\n",
      "|      22.251|      22.251|     -2660.8|  1.0586e+06|        13|      0.23|\n",
      "|       22.25|       22.25|     -2667.4|   1.054e+06|        13|      0.24|\n",
      "|      22.245|      22.245|     -2671.1|   1.051e+06|        13|      0.23|\n",
      "|      22.243|      22.243|     -2671.7|  1.0495e+06|        13|      0.24|\n",
      "|      22.241|      22.241|       -2672|  1.0447e+06|        13|      0.22|\n",
      "|      22.238|      22.238|     -2670.5|  1.0445e+06|        13|      0.24|\n",
      "|      22.252|      22.252|     -2673.9|  1.0376e+06|        13|      0.22|\n",
      "|      22.237|      22.237|     -2670.8|  1.0437e+06|        13|      0.22|\n",
      "|      22.241|      22.241|     -2670.7|  1.0425e+06|        13|      0.22|\n",
      "|      22.239|      22.239|     -2670.8|  1.0435e+06|        13|      0.23|\n",
      "|      22.236|      22.236|     -2670.8|  1.0437e+06|        13|      0.22|\n",
      "|      22.236|      22.236|     -2670.8|  1.0436e+06|        13|      0.23|\n",
      "|      22.241|      22.241|     -2670.8|  1.0435e+06|        13|      0.26|\n",
      "|      22.235|      22.235|     -2670.8|  1.0436e+06|        13|       1.7|\n",
      "|      22.235|      22.235|     -2670.8|  1.0435e+06|        13|      0.42|\n",
      "|      22.239|      22.239|     -2670.8|  1.0436e+06|        13|      0.26|\n",
      "|      22.243|      22.243|     -2670.8|  1.0436e+06|        13|       0.3|\n",
      "|      22.235|      22.235|     -2670.8|  1.0435e+06|        13|      0.26|\n",
      "|      22.278|      22.278|     -2681.6|  1.0306e+06|        13|      0.23|\n",
      "|      22.238|      22.238|     -2672.4|  1.0414e+06|        13|      0.24|\n",
      "|      22.242|      22.242|       -2671|  1.0436e+06|        13|      0.23|\n",
      "|       22.24|       22.24|     -2670.8|  1.0435e+06|        13|      0.24|\n",
      "|      22.236|      22.236|     -2670.8|  1.0435e+06|        13|      0.24|\n",
      "|      22.236|      22.236|     -2670.8|  1.0435e+06|        13|      0.23|\n",
      "Optimization result:\n",
      "      fun: 22.235779343845103\n",
      " hess_inv: <33x33 LbfgsInvHessProduct with dtype=float64>\n",
      "      jac: array([-0.24667154,  0.1449888 ,  0.27745397,  0.12284754,  0.45072679,\n",
      "       -0.02561748,  0.77340876, -0.07610576,  0.59580164, -0.43182749,\n",
      "        2.28240454,  0.14805216, -8.37295352, -0.55579207,  2.65491596,\n",
      "        0.08109561, -0.3138712 ,  0.15107557, -0.16255362,  0.09463628,\n",
      "       -0.02436787,  0.21337983, -0.01726546,  0.13320712, -0.00845205,\n",
      "        0.0691852 , -0.29251564,  0.04261643, -5.63030011,  0.01324405,\n",
      "        0.10156004, -0.12500397,  0.65661581])\n",
      "  message: 'CONVERGENCE: REL_REDUCTION_OF_F_<=_FACTR*EPSMCH'\n",
      "     nfev: 51\n",
      "      nit: 25\n",
      "     njev: 51\n",
      "   status: 0\n",
      "  success: True\n",
      "        x: array([-2.38915729e+00,  1.97672494e+00, -2.87682072e-01,  2.11632280e+00,\n",
      "       -2.87682072e-01,  1.95487468e+00, -2.87682072e-01,  1.31515905e+00,\n",
      "       -2.87682072e-01,  2.30258509e+00, -2.87682072e-01,  1.50481988e+00,\n",
      "        0.00000000e+00,  2.30258509e+00, -2.87682072e-01,  8.94931414e-01,\n",
      "       -1.95962469e-03,  1.42449808e+00, -8.52009487e-02,  1.03802451e+00,\n",
      "       -7.14064831e-02,  1.85144827e+00, -2.12744160e-01,  1.38248440e+00,\n",
      "       -2.29059680e-01,  9.42583502e-01, -1.36576129e-01,  1.42385707e+00,\n",
      "        0.00000000e+00,  6.12753299e-01, -5.47647290e-02,  2.20640906e+00,\n",
      "       -2.87682072e-01])\n"
     ]
    },
    {
     "data": {
      "text/plain": [
       "<mgktools.models.regression.GPRgraphdot.gpr.GPR at 0x7fabaa990ac0>"
      ]
     },
     "execution_count": 6,
     "metadata": {},
     "output_type": "execute_result"
    }
   ],
   "source": [
    "# optimization\n",
    "from mgktools.models.regression.GPRgraphdot import GPR\n",
    "gpr = GPR(kernel=kernel,\n",
    "          optimizer='L-BFGS-B',\n",
    "          alpha=alpha,\n",
    "          normalize_y=True)\n",
    "gpr.fit(dataset.X, dataset.y, loss='loocv', verbose=True)"
   ]
  },
  {
   "cell_type": "code",
   "execution_count": 7,
   "id": "1f9c6693",
   "metadata": {},
   "outputs": [],
   "source": [
    "# save optimized hyperparameters\n",
    "kernel_config.update_from_theta()\n",
    "kernel_config.save_hyperparameters('freesolv/hyperopt/%s' % kernel_type)"
   ]
  },
  {
   "cell_type": "code",
   "execution_count": null,
   "id": "839f043f",
   "metadata": {},
   "outputs": [],
   "source": []
  }
 ],
 "metadata": {
  "kernelspec": {
   "display_name": "mgktools",
   "language": "python",
   "name": "mgktools"
  },
  "language_info": {
   "codemirror_mode": {
    "name": "ipython",
    "version": 3
   },
   "file_extension": ".py",
   "mimetype": "text/x-python",
   "name": "python",
   "nbconvert_exporter": "python",
   "pygments_lexer": "ipython3",
   "version": "3.8.13"
  }
 },
 "nbformat": 4,
 "nbformat_minor": 5
}
