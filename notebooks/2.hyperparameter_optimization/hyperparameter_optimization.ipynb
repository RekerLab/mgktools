{
 "cells": [
  {
   "cell_type": "markdown",
   "id": "85c13471",
   "metadata": {},
   "source": [
    "# Marginalized Graph Kernel (MGK) Architecture"
   ]
  },
  {
   "cell_type": "code",
   "execution_count": 1,
   "id": "bc096436",
   "metadata": {},
   "outputs": [
    {
     "data": {
      "text/plain": [
       "{'Normalization': [10000.0, [1000.0, 30000.0], None, None],\n",
       " 'a_type': ['Tensorproduct', 'fixed', None, None],\n",
       " 'atom_AtomicNumber': {'kDelta': [0.75, [0.75, 1.0], 0.05, None]},\n",
       " 'atom_AtomicNumber_list_1': {'kConv': [0.9, [0.75, 1.0], 0.05, None]},\n",
       " 'atom_AtomicNumber_list_2': {'kConv': [0.9, [0.75, 1.0], 0.05, None]},\n",
       " 'atom_AtomicNumber_list_3': {'kConv': [0.9, [0.75, 1.0], 0.05, None]},\n",
       " 'atom_AtomicNumber_list_4': {'kConv': [0.9, [0.75, 1.0], 0.05, None]},\n",
       " 'atom_MorganHash': {'kDelta': [0.9, [0.75, 1.0], 0.05, None]},\n",
       " 'atom_Ring_count': {'kDelta': [0.9, [0.75, 1.0], 0.05, None]},\n",
       " 'atom_RingSize_list': {'kConv': [0.9, [0.75, 1.0], 0.05, None]},\n",
       " 'atom_Hcount': {'kDelta': [0.9, [0.75, 1.0], 0.05, None]},\n",
       " 'atom_AtomicNumber_count_1': {'kDelta': [0.9, [0.75, 1.0], 0.05, None]},\n",
       " 'atom_AtomicNumber_count_2': {'kDelta': [0.9, [0.75, 1.0], 0.05, None]},\n",
       " 'atom_Chiral': {'kDelta': [0.9, [0.75, 1.0], 0.05, None]},\n",
       " 'b_type': ['Tensorproduct', 'fixed', None, None],\n",
       " 'bond_Order': {'kDelta': [0.9, [0.75, 1.0], 0.05, None]},\n",
       " 'bond_Stereo': {'kDelta': [0.9, [0.75, 1.0], 0.05, None]},\n",
       " 'bond_RingStereo': {'kDelta': [0.9, [0.75, 1.0], 0.05, None]},\n",
       " 'p_type': ['Additive_p', 'fixed', None, None],\n",
       " 'probability_AtomicNumber': {'Const_p': [1.0, 'fixed', None, None]},\n",
       " 'q': [0.01, [0.01, 0.5], 0.01, None]}"
      ]
     },
     "execution_count": 1,
     "metadata": {},
     "output_type": "execute_result"
    }
   ],
   "source": [
    "# How to define the architecture of MGK is still an open question.\n",
    "# In mgktools package, the architecture of MGK is defined in a json file.\n",
    "# In default, mgktools provides 8 sets of choices. \n",
    "# For details, please refer to:\n",
    "# Xiang Y, Tang Y H, Liu H, et al. JPCA, 2021, 125(20): 4488-4497.\n",
    "# Xiang Y, Tang Y H, Lin G, et al. JCIM, 2021, 61(11): 5414-5424.\n",
    "from mgktools.hyperparameters import product, product_norm, product_msnorm, product_pnorm\n",
    "from mgktools.hyperparameters import additive, additive_norm, additive_msnorm, additive_pnorm\n",
    "import json\n",
    "# product_msnorm means combining different features through product, and using molecular-sized normalization.\n",
    "# This is used in the JPCA paper.\n",
    "json.load(open(product_msnorm))"
   ]
  },
  {
   "cell_type": "markdown",
   "id": "df4b409d",
   "metadata": {},
   "source": [
    "# Bayesian Optimization"
   ]
  },
  {
   "cell_type": "code",
   "execution_count": 2,
   "id": "91548daa",
   "metadata": {},
   "outputs": [],
   "source": [
    "# Dataset.\n",
    "import os\n",
    "import pandas as pd\n",
    "from mgktools.data.data import Dataset\n",
    "\n",
    "if not os.path.exists('freesolv'):\n",
    "    os.mkdir('freesolv')\n",
    "    df = pd.read_csv('../datasets/freesolv.csv')\n",
    "    dataset = Dataset.from_df(\n",
    "        df,\n",
    "        pure_columns = ['smiles'],\n",
    "        target_columns = ['freesolv'],\n",
    "        n_jobs = 1\n",
    "    )\n",
    "    dataset.save(path='freesolv', filename='dataset.pkl', overwrite=True)\n",
    "else:\n",
    "    dataset = Dataset.load(path='freesolv', filename='dataset.pkl')\n",
    "dataset.graph_kernel_type = 'graph'"
   ]
  },
  {
   "cell_type": "code",
   "execution_count": 3,
   "id": "403c2017",
   "metadata": {},
   "outputs": [],
   "source": [
    "# kernel\n",
    "kernel_type = 'additive_pnorm'\n",
    "from mgktools.kernels.utils import get_kernel_config\n",
    "kernel_config = get_kernel_config(\n",
    "    dataset,\n",
    "    graph_kernel_type = 'graph',\n",
    "    # arguments for marginalized graph kernel\n",
    "    mgk_hyperparameters_files = [additive_pnorm],\n",
    ")"
   ]
  },
  {
   "cell_type": "code",
   "execution_count": 4,
   "id": "e57acac9",
   "metadata": {
    "scrolled": true
   },
   "outputs": [
    {
     "name": "stderr",
     "output_type": "stream",
     "text": [
      "/home/yanxiang/apps/miniforge3/envs/mgktools/lib/python3.10/site-packages/tqdm/auto.py:21: TqdmWarning: IProgress not found. Please update jupyter and ipywidgets. See https://ipywidgets.readthedocs.io/en/stable/user_install.html\n",
      "  from .autonotebook import tqdm as notebook_tqdm\n",
      "[I 2024-05-23 19:47:28,124] Using an existing study with name 'optuna-study' instead of creating a new one.\n"
     ]
    }
   ],
   "source": [
    "# Use Optuna Python package.\n",
    "import os\n",
    "if not os.path.exists('freesolv/hyperopt'):\n",
    "    os.mkdir('freesolv/hyperopt')\n",
    "    if not os.path.exists('freesolv/hyperopt/%s' % kernel_type):\n",
    "        os.mkdir('freesolv/hyperopt/%s' % kernel_type)\n",
    "from mgktools.hyperparameters.optuna import bayesian_optimization\n",
    "bayesian_optimization(save_dir='freesolv/hyperopt/%s' % kernel_type,\n",
    "                      datasets=[dataset],\n",
    "                      kernel_config=kernel_config,\n",
    "                      model_type='gpr',\n",
    "                      task_type='regression',\n",
    "                      metric='rmse',\n",
    "                      cross_validation='leave-one-out',\n",
    "                      num_iters=50,\n",
    "                      alpha_bounds=(0.001, 0.02),\n",
    "                      d_alpha=0.001)"
   ]
  },
  {
   "cell_type": "code",
   "execution_count": 5,
   "id": "d57df5b6-ba27-4b79-8fc0-7fd350182e17",
   "metadata": {},
   "outputs": [],
   "source": [
    "# The details of the hyperparameter optimization is saved at freesolv/hyperopt/additive_pnorm/optuna.db\n",
    "# You can visualize it using optuna-dashboard: https://github.com/optuna/optuna-dashboard."
   ]
  },
  {
   "cell_type": "markdown",
   "id": "1a49ebb7",
   "metadata": {},
   "source": [
    "# Gradient-Based Optimization"
   ]
  },
  {
   "cell_type": "code",
   "execution_count": 6,
   "id": "6d722661",
   "metadata": {},
   "outputs": [],
   "source": [
    "kernel_config = get_kernel_config(\n",
    "    dataset,\n",
    "    graph_kernel_type = 'graph',\n",
    "    # arguments for marginalized graph kernel\n",
    "    mgk_hyperparameters_files = ['freesolv/hyperopt/%s/graph_hyperparameters.json' % kernel_type],\n",
    ")\n",
    "kernel = kernel_config.kernel\n",
    "alpha = float(open('freesolv/hyperopt/%s/alpha' % kernel_type, 'r').readline())"
   ]
  },
  {
   "cell_type": "code",
   "execution_count": 7,
   "id": "8c9a60cd",
   "metadata": {},
   "outputs": [
    {
     "name": "stdout",
     "output_type": "stream",
     "text": [
      "|     Sq.Err.|    d(SqErr)|     log|K| |     Cond(K)| t_GPU (s)| t_CPU (s)|\n",
      "|------------|------------|------------|------------|----------|----------|\n",
      "|      25.789|      25.789|     -2079.5|  4.3462e+05|        76|      0.39|\n",
      "|      25.916|      25.916|       -1727|  5.1566e+05|        10|      0.39|\n",
      "|      23.564|      23.564|     -1841.7|  4.9085e+05|       9.9|      0.39|\n",
      "|      23.389|      23.389|     -1787.5|   4.959e+05|       9.9|      0.41|\n",
      "|      24.009|      24.009|     -1611.5|  5.1222e+05|        10|       0.4|\n",
      "|      23.246|      23.246|       -1700|  5.0321e+05|        10|      0.41|\n",
      "|      23.142|      23.142|     -1651.3|   5.045e+05|        10|      0.39|\n",
      "|      22.991|      22.991|     -1628.9|  5.0359e+05|        10|       0.4|\n",
      "|      22.839|      22.839|     -1671.7|   4.869e+05|        10|       0.4|\n",
      "|      22.751|      22.751|     -1679.8|  4.9067e+05|        10|      0.42|\n",
      "|      23.002|      23.002|     -1753.7|  4.9973e+05|        10|       0.4|\n",
      "|      22.654|      22.654|     -1708.8|  4.9472e+05|        10|      0.41|\n",
      "|      22.484|      22.484|     -1880.8|  5.0913e+05|        10|      0.41|\n",
      "|      22.324|      22.324|     -1910.8|  5.0507e+05|        10|       0.4|\n",
      "|      22.336|      22.336|     -1935.9|  4.9901e+05|        10|       0.4|\n",
      "|      22.294|      22.294|       -1922|   5.023e+05|        10|      0.56|\n",
      "|      22.289|      22.289|       -1953|  5.0277e+05|        10|      0.55|\n",
      "|      22.283|      22.283|     -1949.5|  5.0314e+05|        10|       0.5|\n",
      "|      22.265|      22.265|     -1934.4|  5.0505e+05|        10|      0.44|\n",
      "|      22.255|      22.255|     -1918.5|  5.0672e+05|        10|       0.4|\n",
      "|      22.238|      22.238|     -1895.3|  5.0984e+05|        10|      0.43|\n",
      "|      22.221|      22.221|     -1887.8|  5.1234e+05|        10|       0.4|\n",
      "|      22.207|      22.207|     -1876.5|  5.1763e+05|        10|      0.42|\n",
      "|       22.19|       22.19|       -1858|  5.2691e+05|        10|      0.41|\n",
      "|      22.176|      22.176|     -1849.3|  5.2978e+05|        10|      0.38|\n",
      "|      22.175|      22.175|     -1855.5|  5.2866e+05|        10|      0.39|\n",
      "|      22.167|      22.167|     -1862.7|  5.2556e+05|        10|      0.39|\n",
      "|      22.147|      22.147|     -1877.1|  5.1886e+05|        10|      0.41|\n",
      "|      22.133|      22.133|     -1894.7|  5.1195e+05|        10|       0.4|\n",
      "|      22.148|      22.148|       -1906|   5.073e+05|        10|       0.4|\n",
      "|      22.126|      22.126|     -1898.5|  5.1022e+05|        10|       0.4|\n",
      "|      22.113|      22.113|     -1908.7|  5.0656e+05|        10|      0.42|\n",
      "|      22.108|      22.108|       -1902|  5.0973e+05|        10|       0.4|\n",
      "|      22.108|      22.108|       -1895|  5.1379e+05|        10|      0.39|\n",
      "Optimization result:\n",
      "  message: CONVERGENCE: REL_REDUCTION_OF_F_<=_FACTR*EPSMCH\n",
      "  success: True\n",
      "   status: 0\n",
      "      fun: 22.107685043225892\n",
      "        x: [-3.037e+00  2.303e+00 ...  1.524e+00  0.000e+00]\n",
      "      nit: 28\n",
      "      jac: [-7.076e-02 -1.527e-01 ...  1.233e-02 -9.510e+01]\n",
      "     nfev: 34\n",
      "     njev: 34\n",
      " hess_inv: <33x33 LbfgsInvHessProduct with dtype=float64>\n"
     ]
    },
    {
     "data": {
      "text/plain": [
       "<mgktools.models.regression.GPRgraphdot.gpr.GPR at 0x7623764aec80>"
      ]
     },
     "execution_count": 7,
     "metadata": {},
     "output_type": "execute_result"
    }
   ],
   "source": [
    "# optimization\n",
    "from mgktools.models.regression.GPRgraphdot import GPR\n",
    "gpr = GPR(kernel=kernel,\n",
    "          optimizer='L-BFGS-B',\n",
    "          alpha=alpha,\n",
    "          normalize_y=True)\n",
    "gpr.fit(dataset.X, dataset.y, loss='loocv', verbose=True)"
   ]
  },
  {
   "cell_type": "code",
   "execution_count": 9,
   "id": "1f9c6693",
   "metadata": {},
   "outputs": [],
   "source": [
    "# save optimized hyperparameters\n",
    "kernel_config.update_from_theta()\n",
    "kernel_config.save('freesolv/hyperopt')"
   ]
  }
 ],
 "metadata": {
  "kernelspec": {
   "display_name": "mgktools",
   "language": "python",
   "name": "mgktools"
  },
  "language_info": {
   "codemirror_mode": {
    "name": "ipython",
    "version": 3
   },
   "file_extension": ".py",
   "mimetype": "text/x-python",
   "name": "python",
   "nbconvert_exporter": "python",
   "pygments_lexer": "ipython3",
   "version": "3.10.14"
  }
 },
 "nbformat": 4,
 "nbformat_minor": 5
}
