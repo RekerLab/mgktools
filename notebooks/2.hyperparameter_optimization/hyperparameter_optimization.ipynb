{
 "cells": [
  {
   "cell_type": "markdown",
   "id": "85c13471",
   "metadata": {},
   "source": [
    "# Marginalized Graph Kernel (MGK) Architecture"
   ]
  },
  {
   "cell_type": "code",
   "execution_count": 1,
   "id": "bc096436",
   "metadata": {
    "scrolled": true
   },
   "outputs": [
    {
     "data": {
      "text/plain": [
       "{'Normalization': [10000, [1000, 30000]],\n",
       " 'a_type': ['Tensorproduct', 'fixed'],\n",
       " 'atom_AtomicNumber': {'kDelta': [0.75, [0.75, 1.0], 0.05]},\n",
       " 'atom_AtomicNumber_list_1': {'kConv': [0.9, [0.75, 1.0], 0.05]},\n",
       " 'atom_AtomicNumber_list_2': {'kConv': [0.9, [0.75, 1.0], 0.05]},\n",
       " 'atom_AtomicNumber_list_3': {'kConv': [0.9, [0.75, 1.0], 0.05]},\n",
       " 'atom_AtomicNumber_list_4': {'kConv': [0.9, [0.75, 1.0], 0.05]},\n",
       " 'atom_MorganHash': {'kDelta': [0.9, [0.75, 1.0], 0.05]},\n",
       " 'atom_Ring_count': {'kDelta': [0.9, [0.75, 1.0], 0.05]},\n",
       " 'atom_RingSize_list': {'kConv': [0.9, [0.75, 1.0], 0.05]},\n",
       " 'atom_Hcount': {'kDelta': [0.9, [0.75, 1.0], 0.05]},\n",
       " 'atom_AtomicNumber_count_1': {'kDelta': [0.9, [0.75, 1.0], 0.05]},\n",
       " 'atom_AtomicNumber_count_2': {'kDelta': [0.9, [0.75, 1.0], 0.05]},\n",
       " 'atom_Chiral': {'kDelta': [0.9, [0.75, 1.0], 0.05]},\n",
       " 'b_type': ['Tensorproduct', 'fixed'],\n",
       " 'bond_Order': {'kDelta': [0.9, [0.75, 1.0], 0.05]},\n",
       " 'bond_Stereo': {'kDelta': [0.9, [0.75, 1.0], 0.05]},\n",
       " 'bond_RingStereo': {'kDelta': [0.9, [0.75, 1.0], 0.05]},\n",
       " 'p_type': ['Additive_p', 'fixed'],\n",
       " 'probability_AtomicNumber': {'Const_p': [1.0, 'fixed']},\n",
       " 'q': [0.01, [0.01, 0.5], 0.01]}"
      ]
     },
     "execution_count": 1,
     "metadata": {},
     "output_type": "execute_result"
    }
   ],
   "source": [
    "# How to define the architecture of MGK is still an open question.\n",
    "# In mgktools package, the architecture of MGK is defined in a json file.\n",
    "# In default, mgktools provides 8 sets of choices. \n",
    "# For details, please refer to:\n",
    "# Xiang Y, Tang Y H, Liu H, et al. JPCA, 2021, 125(20): 4488-4497.\n",
    "# Xiang Y, Tang Y H, Lin G, et al. JCIM, 2021, 61(11): 5414-5424.\n",
    "from mgktools.hyperparameters import product, product_norm, product_msnorm, product_pnorm\n",
    "from mgktools.hyperparameters import additive, additive_norm, additive_msnorm, additive_pnorm\n",
    "import json\n",
    "# product_msnorm means combining different features through product, and using molecular-sized normalization.\n",
    "# This is used in the JPCA paper.\n",
    "json.load(open(product_msnorm))"
   ]
  },
  {
   "cell_type": "markdown",
   "id": "df4b409d",
   "metadata": {},
   "source": [
    "# Bayesian Optimization"
   ]
  },
  {
   "cell_type": "code",
   "execution_count": 2,
   "id": "91548daa",
   "metadata": {},
   "outputs": [
    {
     "name": "stderr",
     "output_type": "stream",
     "text": [
      "WARNING:root:No normalization for BCUT2D_MWHI\n",
      "WARNING:root:No normalization for BCUT2D_MWLOW\n",
      "WARNING:root:No normalization for BCUT2D_CHGHI\n",
      "WARNING:root:No normalization for BCUT2D_CHGLO\n",
      "WARNING:root:No normalization for BCUT2D_LOGPHI\n",
      "WARNING:root:No normalization for BCUT2D_LOGPLOW\n",
      "WARNING:root:No normalization for BCUT2D_MRHI\n",
      "WARNING:root:No normalization for BCUT2D_MRLOW\n",
      "[Parallel(n_jobs=1)]: Using backend SequentialBackend with 1 concurrent workers.\n",
      "[Parallel(n_jobs=1)]: Done 642 out of 642 | elapsed:   43.2s finished\n"
     ]
    }
   ],
   "source": [
    "# Dataset.\n",
    "import os\n",
    "import pandas as pd\n",
    "from mgktools.data.data import Dataset\n",
    "\n",
    "if not os.path.exists('freesolv'):\n",
    "    os.mkdir('freesolv')\n",
    "    df = pd.read_csv('../datasets/freesolv.csv')\n",
    "    dataset = Dataset.from_df(\n",
    "        df,\n",
    "        pure_columns = ['smiles'],\n",
    "        target_columns = ['freesolv'],\n",
    "        n_jobs = 1\n",
    "    )\n",
    "    dataset.save(path='freesolv', filename='dataset.pkl', overwrite=True)\n",
    "else:\n",
    "    dataset = Dataset.load(path='freesolv', filename='dataset.pkl')\n",
    "dataset.graph_kernel_type = 'graph'"
   ]
  },
  {
   "cell_type": "code",
   "execution_count": 3,
   "id": "403c2017",
   "metadata": {},
   "outputs": [
    {
     "name": "stderr",
     "output_type": "stream",
     "text": [
      "/home/xiangyan/apps/miniconda3/envs/mgktools/lib/python3.9/site-packages/graphdot/codegen/sympy_printer.py:4: SymPyDeprecationWarning: \n",
      "\n",
      "The sympy.printing.cxxcode submodule is deprecated. It has been renamed to\n",
      "sympy.printing.cxx.\n",
      "\n",
      "See https://docs.sympy.org/latest/explanation/active-deprecations.html#deprecated-printing-code-submodules\n",
      "for details.\n",
      "\n",
      "This has been deprecated since SymPy version 1.7. It\n",
      "will be removed in a future version of SymPy.\n",
      "\n",
      "  from sympy.printing.cxxcode import CXX11CodePrinter\n"
     ]
    }
   ],
   "source": [
    "# kernel\n",
    "kernel_type = 'additive_pnorm'\n",
    "from mgktools.kernels.utils import get_kernel_config\n",
    "kernel_config = get_kernel_config(\n",
    "    dataset,\n",
    "    graph_kernel_type = 'graph',\n",
    "    # arguments for marginalized graph kernel\n",
    "    mgk_hyperparameters_files = [additive_pnorm],\n",
    ")"
   ]
  },
  {
   "cell_type": "code",
   "execution_count": 4,
   "id": "e57acac9",
   "metadata": {
    "scrolled": true
   },
   "outputs": [
    {
     "name": "stdout",
     "output_type": "stream",
     "text": [
      "100%|█████████████████████████████████████████████████████████████████████████████████████████████████████████████████████████████████████| 50/50 [12:06<00:00, 14.52s/trial, best loss: 1.1252696700041187]\n"
     ]
    }
   ],
   "source": [
    "# Use hyperopt Python package.\n",
    "import os\n",
    "if not os.path.exists('freesolv/hyperopt'):\n",
    "    os.mkdir('freesolv/hyperopt')\n",
    "    if not os.path.exists('freesolv/hyperopt/%s' % kernel_type):\n",
    "        os.mkdir('freesolv/hyperopt/%s' % kernel_type)\n",
    "from mgktools.hyperparameters.hyperopt import bayesian_optimization\n",
    "best_hyperdict, results, hyperdicts = \\\n",
    "bayesian_optimization(save_dir='freesolv/hyperopt/%s' % kernel_type,\n",
    "                      dataset=dataset,\n",
    "                      kernel_config=kernel_config,\n",
    "                      model_type='gpr',\n",
    "                      task_type='regression',\n",
    "                      metric='rmse',\n",
    "                      split_type='loocv',\n",
    "                      num_iters=50,\n",
    "                      alpha_bounds=(0.001, 0.02),\n",
    "                      d_alpha=0.001)"
   ]
  },
  {
   "cell_type": "code",
   "execution_count": 5,
   "id": "21d1eb7d",
   "metadata": {},
   "outputs": [
    {
     "data": {
      "text/plain": [
       "(array([ 9.,  9., 11.,  7.,  2.,  2.,  3.,  4.,  1.,  2.]),\n",
       " array([1.12526967, 1.18666857, 1.24806748, 1.30946638, 1.37086529,\n",
       "        1.43226419, 1.49366309, 1.555062  , 1.6164609 , 1.6778598 ,\n",
       "        1.73925871]),\n",
       " <BarContainer object of 10 artists>)"
      ]
     },
     "execution_count": 5,
     "metadata": {},
     "output_type": "execute_result"
    },
    {
     "data": {
      "image/png": "[encoded data removed]",
      "text/plain": [
       "<Figure size 432x288 with 1 Axes>"
      ]
     },
     "metadata": {
      "needs_background": "light"
     },
     "output_type": "display_data"
    }
   ],
   "source": [
    "import matplotlib.pyplot as plt\n",
    "plt.hist(results)"
   ]
  },
  {
   "cell_type": "markdown",
   "id": "1a49ebb7",
   "metadata": {},
   "source": [
    "# Gradient-Based Optimization"
   ]
  },
  {
   "cell_type": "code",
   "execution_count": 6,
   "id": "6d722661",
   "metadata": {},
   "outputs": [],
   "source": [
    "kernel_config = get_kernel_config(\n",
    "    dataset,\n",
    "    graph_kernel_type = 'graph',\n",
    "    # arguments for marginalized graph kernel\n",
    "    mgk_hyperparameters_files = ['freesolv/hyperopt/%s/hyperparameters_0.json' % kernel_type],\n",
    ")\n",
    "kernel = kernel_config.kernel\n",
    "alpha = float(open('freesolv/hyperopt/%s/alpha' % kernel_type, 'r').readline())"
   ]
  },
  {
   "cell_type": "code",
   "execution_count": 7,
   "id": "8c9a60cd",
   "metadata": {},
   "outputs": [
    {
     "name": "stdout",
     "output_type": "stream",
     "text": [
      "|     Sq.Err.|    d(SqErr)|     log|K| |     Cond(K)| t_GPU (s)| t_CPU (s)|\n",
      "|------------|------------|------------|------------|----------|----------|\n",
      "|      27.495|      27.495|     -1953.5|  2.5282e+05|        18|       3.1|\n",
      "|      30.427|      30.427|     -46.289|  2.1942e+05|        12|       3.4|\n",
      "|      28.281|      28.281|     -898.99|  2.8708e+05|        12|         3|\n",
      "|      27.484|      27.484|     -1514.4|  2.6576e+05|        12|       2.6|\n",
      "|      26.649|      26.649|     -1576.2|  2.7429e+05|        12|       3.5|\n",
      "|      25.706|      25.706|       -1733|  2.8551e+05|        13|       3.4|\n",
      "|       25.13|       25.13|     -1606.7|  3.0321e+05|        13|       3.1|\n",
      "|      25.039|      25.039|     -910.08|  3.3822e+05|        13|         3|\n",
      "|      24.713|      24.713|     -1017.4|  3.4109e+05|        13|       2.6|\n",
      "|      107.71|      107.71|       -2714|       63376|       9.8|         3|\n",
      "|      25.135|      25.135|       -1729|  2.6711e+05|        13|       3.3|\n",
      "|      24.479|      24.479|     -1287.5|  3.1898e+05|        13|       2.3|\n",
      "|      23.635|      23.635|       -1691|  3.0759e+05|        13|       3.1|\n",
      "|      23.461|      23.461|     -1534.8|  3.3259e+05|        13|       3.5|\n",
      "|       23.62|       23.62|     -1685.3|  3.0847e+05|        12|       3.6|\n",
      "|      23.452|      23.452|       -1606|   3.207e+05|        12|       2.7|\n",
      "|      28.551|      28.551|     -715.65|  4.2159e+05|        14|       3.2|\n",
      "|      23.551|      23.551|     -1405.8|  3.4898e+05|        13|       3.1|\n",
      "|      23.433|      23.433|     -1549.9|  3.2894e+05|        13|       3.2|\n",
      "|      30.514|      30.514|     -497.89|  2.6618e+05|        13|       3.7|\n",
      "|      24.406|      24.406|     -1099.9|  3.2497e+05|        12|       3.7|\n",
      "|      23.452|      23.452|     -1497.4|  3.2865e+05|        13|       2.4|\n",
      "|      23.425|      23.425|     -1537.2|  3.2877e+05|        12|       2.8|\n",
      "|      23.396|      23.396|     -1539.5|  3.3089e+05|        13|       3.3|\n",
      "|      23.465|      23.465|     -1533.1|  3.3383e+05|        13|       3.9|\n",
      "|      23.376|      23.376|     -1535.1|  3.3205e+05|        13|       3.1|\n",
      "|      26.894|      26.894|       -2107|  2.3147e+05|        11|       2.7|\n",
      "|      23.416|      23.416|     -1638.8|   3.153e+05|        13|       3.4|\n",
      "|      23.341|      23.341|     -1569.7|  3.2651e+05|        12|       2.7|\n",
      "|      23.323|      23.323|     -1636.5|  3.1777e+05|        12|         3|\n",
      "|      23.325|      23.325|     -1575.3|  3.2572e+05|        13|       3.8|\n",
      "|      23.268|      23.268|       -1605|  3.2165e+05|        13|         3|\n",
      "|      24.472|      24.472|     -1985.2|  2.5472e+05|        13|       2.8|\n",
      "|      23.178|      23.178|     -1690.4|  3.0714e+05|        14|       3.4|\n",
      "|      22.947|      22.947|     -1676.4|  3.0868e+05|        13|       2.3|\n",
      "|       22.83|       22.83|     -1597.5|  3.1519e+05|        13|       2.1|\n",
      "|      22.824|      22.824|     -1657.5|  3.1051e+05|        14|       3.6|\n",
      "|       22.77|       22.77|     -1592.7|  3.1506e+05|        14|         3|\n",
      "|      22.759|      22.759|     -1644.6|   3.115e+05|        13|       3.3|\n",
      "|      22.639|      22.639|     -1593.4|  3.1242e+05|        14|       3.6|\n",
      "|      22.762|      22.762|     -1559.5|  3.0994e+05|        14|       2.8|\n",
      "|      22.635|      22.635|       -1585|  3.1194e+05|        13|       2.8|\n",
      "|      22.617|      22.617|     -1575.7|  3.1428e+05|        13|       3.3|\n",
      "|      22.583|      22.583|     -1573.1|  3.1282e+05|        13|       3.2|\n",
      "|      22.482|      22.482|     -1563.9|  3.0715e+05|        13|         3|\n",
      "|      22.247|      22.247|     -1562.8|  2.8722e+05|        13|       3.2|\n",
      "|      22.129|      22.129|     -1626.3|  2.7303e+05|        13|         4|\n",
      "|       22.11|       22.11|     -1629.4|  2.7086e+05|        13|       2.9|\n",
      "|      22.059|      22.059|     -1623.9|  2.6639e+05|        13|       2.5|\n",
      "|      22.041|      22.041|     -1599.3|   2.694e+05|        13|       3.5|\n",
      "|      22.017|      22.017|     -1583.5|  2.7211e+05|        13|       3.2|\n",
      "|      21.988|      21.988|     -1570.7|  2.7617e+05|        13|       3.4|\n",
      "|      21.966|      21.966|     -1577.6|   2.759e+05|        13|       3.9|\n",
      "|      21.933|      21.933|     -1595.5|  2.7648e+05|        13|       3.1|\n",
      "|      21.915|      21.915|     -1601.3|  2.7607e+05|        13|       2.5|\n",
      "|      21.841|      21.841|     -1634.4|  2.7408e+05|        13|       3.1|\n",
      "|      21.812|      21.812|     -1632.5|   2.738e+05|        13|       3.2|\n",
      "|      21.849|      21.849|     -1602.3|  2.7633e+05|        13|       3.4|\n",
      "|      21.787|      21.787|     -1617.9|  2.7496e+05|        13|         3|\n",
      "|      21.767|      21.767|     -1595.3|  2.7628e+05|        13|       3.1|\n",
      "|      21.758|      21.758|     -1590.9|   2.772e+05|        13|       3.9|\n",
      "|      21.735|      21.735|     -1574.1|  2.8012e+05|        13|       3.7|\n",
      "|      21.725|      21.725|     -1567.1|  2.8097e+05|        13|       3.1|\n",
      "|      21.719|      21.719|     -1562.5|  2.8107e+05|        13|       2.9|\n",
      "|      21.695|      21.695|     -1554.1|  2.8089e+05|        13|       3.4|\n",
      "|      21.681|      21.681|     -1555.7|  2.7915e+05|        13|       3.4|\n",
      "|       21.65|       21.65|     -1577.6|  2.7656e+05|        13|       3.9|\n",
      "|      22.009|      22.009|     -1685.7|  2.6865e+05|        13|       2.7|\n",
      "|      21.642|      21.642|     -1589.3|  2.7409e+05|        13|       3.4|\n",
      "|      21.582|      21.582|     -1604.3|  2.7393e+05|        13|       3.1|\n",
      "|      21.758|      21.758|     -1704.6|  2.6378e+05|        13|       3.6|\n",
      "|      21.532|      21.532|     -1630.5|  2.6751e+05|        13|       3.4|\n",
      "|      21.502|      21.502|     -1626.1|  2.6742e+05|        13|       3.7|\n",
      "|       21.52|       21.52|     -1616.6|  2.6481e+05|        13|       3.7|\n",
      "|      21.461|      21.461|     -1619.4|  2.6575e+05|        13|         3|\n",
      "|       21.44|       21.44|     -1621.2|  2.6412e+05|        13|       3.9|\n",
      "|       21.51|       21.51|     -1617.8|  2.6415e+05|        13|       3.3|\n",
      "|      21.439|      21.439|     -1619.8|  2.6413e+05|        13|       3.1|\n",
      "|      21.439|      21.439|     -1613.2|  2.6423e+05|        13|       3.7|\n",
      "|      21.434|      21.434|     -1609.5|   2.645e+05|        13|       3.3|\n",
      "|      21.437|      21.437|     -1607.7|  2.6434e+05|        13|       3.5|\n",
      "|      21.438|      21.438|     -1609.3|  2.6451e+05|        13|       2.9|\n",
      "|      21.436|      21.436|     -1609.5|   2.645e+05|        13|       4.2|\n",
      "|      21.434|      21.434|     -1609.5|   2.645e+05|        13|       3.5|\n",
      "|      21.434|      21.434|     -1609.5|   2.645e+05|        13|       3.7|\n",
      "|      21.435|      21.435|     -1609.5|  2.6451e+05|        13|       3.3|\n",
      "Optimization result:\n",
      "      fun: 21.434663859150866\n",
      " hess_inv: <33x33 LbfgsInvHessProduct with dtype=float64>\n",
      "      jac: array([-1.92945991e-01, -1.14895136e-01,  1.55018099e+00,  5.14862986e-02,\n",
      "        4.99862190e-02, -3.10011462e-02,  2.32590776e-01, -1.36853929e-01,\n",
      "        6.88923847e-01, -5.88815553e-02,  1.20677042e+00,  5.58037553e-02,\n",
      "       -9.03026365e+00, -2.00030833e-01,  8.10007550e-01,  9.51404080e-02,\n",
      "        1.25151628e+00,  1.06872579e-01, -3.15351601e-01,  8.59345248e-02,\n",
      "       -2.51799112e-01,  9.59494923e-02,  1.29374303e-01,  5.02248741e-02,\n",
      "       -3.24326231e+00,  4.47526165e-02, -1.55635210e-01, -1.41168294e-03,\n",
      "       -4.17218887e+00,  7.40941992e-03, -2.68949517e-01, -5.07038884e-02,\n",
      "        1.90607375e-01])\n",
      "  message: 'CONVERGENCE: REL_REDUCTION_OF_F_<=_FACTR*EPSMCH'\n",
      "     nfev: 86\n",
      "      nit: 53\n",
      "     njev: 86\n",
      "   status: 0\n",
      "  success: True\n",
      "        x: array([-3.28191544e+00,  2.30258509e+00, -2.87682072e-01,  5.28865279e-01,\n",
      "       -2.87682072e-01,  3.05316987e-03, -2.67455284e-01,  8.37183781e-01,\n",
      "       -2.87682072e-01,  2.14572580e+00, -2.87682072e-01,  3.28722048e-01,\n",
      "        0.00000000e+00,  5.54967270e-01, -2.87682072e-01,  8.71844667e-01,\n",
      "       -7.58321561e-04,  0.00000000e+00, -1.91866614e-01,  7.24494177e-01,\n",
      "       -1.19644020e-02,  1.07324140e+00, -1.54234438e-01,  2.23328589e-01,\n",
      "        0.00000000e+00,  5.67883494e-02, -2.54102354e-01,  1.70553766e+00,\n",
      "        0.00000000e+00,  1.39922142e+00, -3.09088788e-02,  1.78824143e+00,\n",
      "       -2.29485754e-01])\n"
     ]
    },
    {
     "data": {
      "text/plain": [
       "<mgktools.models.regression.GPRgraphdot.gpr.GPR at 0x7f15c432f850>"
      ]
     },
     "execution_count": 7,
     "metadata": {},
     "output_type": "execute_result"
    }
   ],
   "source": [
    "# optimization\n",
    "from mgktools.models.regression.GPRgraphdot import GPR\n",
    "gpr = GPR(kernel=kernel,\n",
    "          optimizer='L-BFGS-B',\n",
    "          alpha=alpha,\n",
    "          normalize_y=True)\n",
    "gpr.fit(dataset.X, dataset.y, loss='loocv', verbose=True)"
   ]
  },
  {
   "cell_type": "code",
   "execution_count": 8,
   "id": "1f9c6693",
   "metadata": {},
   "outputs": [],
   "source": [
    "# save optimized hyperparameters\n",
    "kernel_config.update_from_theta()\n",
    "kernel_config.save_hyperparameters('freesolv/hyperopt/%s' % kernel_type)"
   ]
  },
  {
   "cell_type": "code",
   "execution_count": null,
   "id": "839f043f",
   "metadata": {},
   "outputs": [],
   "source": []
  }
 ],
 "metadata": {
  "kernelspec": {
   "display_name": "mgktools",
   "language": "python",
   "name": "mgktools"
  },
  "language_info": {
   "codemirror_mode": {
    "name": "ipython",
    "version": 3
   },
   "file_extension": ".py",
   "mimetype": "text/x-python",
   "name": "python",
   "nbconvert_exporter": "python",
   "pygments_lexer": "ipython3",
   "version": "3.9.12"
  }
 },
 "nbformat": 4,
 "nbformat_minor": 5
}
