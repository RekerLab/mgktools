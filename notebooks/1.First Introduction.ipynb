{
 "cells": [
  {
   "cell_type": "markdown",
   "id": "57759a64",
   "metadata": {},
   "source": [
    "# Read input data set."
   ]
  },
  {
   "cell_type": "code",
   "execution_count": 1,
   "id": "01800558",
   "metadata": {},
   "outputs": [
    {
     "data": {
      "text/html": [
       "<div>\n",
       "<style scoped>\n",
       "    .dataframe tbody tr th:only-of-type {\n",
       "        vertical-align: middle;\n",
       "    }\n",
       "\n",
       "    .dataframe tbody tr th {\n",
       "        vertical-align: top;\n",
       "    }\n",
       "\n",
       "    .dataframe thead th {\n",
       "        text-align: right;\n",
       "    }\n",
       "</style>\n",
       "<table border=\"1\" class=\"dataframe\">\n",
       "  <thead>\n",
       "    <tr style=\"text-align: right;\">\n",
       "      <th></th>\n",
       "      <th>smiles</th>\n",
       "      <th>freesolv</th>\n",
       "    </tr>\n",
       "  </thead>\n",
       "  <tbody>\n",
       "    <tr>\n",
       "      <th>0</th>\n",
       "      <td>CN(C)C(=O)c1ccc(cc1)OC</td>\n",
       "      <td>-11.01</td>\n",
       "    </tr>\n",
       "    <tr>\n",
       "      <th>1</th>\n",
       "      <td>CS(=O)(=O)Cl</td>\n",
       "      <td>-4.87</td>\n",
       "    </tr>\n",
       "    <tr>\n",
       "      <th>2</th>\n",
       "      <td>CC(C)C=C</td>\n",
       "      <td>1.83</td>\n",
       "    </tr>\n",
       "    <tr>\n",
       "      <th>3</th>\n",
       "      <td>CCc1cnccn1</td>\n",
       "      <td>-5.45</td>\n",
       "    </tr>\n",
       "    <tr>\n",
       "      <th>4</th>\n",
       "      <td>CCCCCCCO</td>\n",
       "      <td>-4.21</td>\n",
       "    </tr>\n",
       "    <tr>\n",
       "      <th>...</th>\n",
       "      <td>...</td>\n",
       "      <td>...</td>\n",
       "    </tr>\n",
       "    <tr>\n",
       "      <th>637</th>\n",
       "      <td>CCCCCCCC(=O)OC</td>\n",
       "      <td>-2.04</td>\n",
       "    </tr>\n",
       "    <tr>\n",
       "      <th>638</th>\n",
       "      <td>C1CCNC1</td>\n",
       "      <td>-5.48</td>\n",
       "    </tr>\n",
       "    <tr>\n",
       "      <th>639</th>\n",
       "      <td>c1cc(ccc1C=O)O</td>\n",
       "      <td>-8.83</td>\n",
       "    </tr>\n",
       "    <tr>\n",
       "      <th>640</th>\n",
       "      <td>CCCCCCCCl</td>\n",
       "      <td>0.29</td>\n",
       "    </tr>\n",
       "    <tr>\n",
       "      <th>641</th>\n",
       "      <td>C1COCCO1</td>\n",
       "      <td>-5.06</td>\n",
       "    </tr>\n",
       "  </tbody>\n",
       "</table>\n",
       "<p>642 rows × 2 columns</p>\n",
       "</div>"
      ],
      "text/plain": [
       "                     smiles  freesolv\n",
       "0    CN(C)C(=O)c1ccc(cc1)OC    -11.01\n",
       "1              CS(=O)(=O)Cl     -4.87\n",
       "2                  CC(C)C=C      1.83\n",
       "3                CCc1cnccn1     -5.45\n",
       "4                  CCCCCCCO     -4.21\n",
       "..                      ...       ...\n",
       "637          CCCCCCCC(=O)OC     -2.04\n",
       "638                 C1CCNC1     -5.48\n",
       "639          c1cc(ccc1C=O)O     -8.83\n",
       "640               CCCCCCCCl      0.29\n",
       "641                C1COCCO1     -5.06\n",
       "\n",
       "[642 rows x 2 columns]"
      ]
     },
     "execution_count": 1,
     "metadata": {},
     "output_type": "execute_result"
    }
   ],
   "source": [
    "import pandas as pd\n",
    "df = pd.read_csv('datasets/freesolv.csv')\n",
    "df"
   ]
  },
  {
   "cell_type": "code",
   "execution_count": 2,
   "id": "e8a5a886",
   "metadata": {},
   "outputs": [
    {
     "name": "stderr",
     "output_type": "stream",
     "text": [
      "WARNING:root:No normalization for BCUT2D_MWHI\n",
      "WARNING:root:No normalization for BCUT2D_MWLOW\n",
      "WARNING:root:No normalization for BCUT2D_CHGHI\n",
      "WARNING:root:No normalization for BCUT2D_CHGLO\n",
      "WARNING:root:No normalization for BCUT2D_LOGPHI\n",
      "WARNING:root:No normalization for BCUT2D_LOGPLOW\n",
      "WARNING:root:No normalization for BCUT2D_MRHI\n",
      "WARNING:root:No normalization for BCUT2D_MRLOW\n",
      "[Parallel(n_jobs=1)]: Using backend SequentialBackend with 1 concurrent workers.\n",
      "[Parallel(n_jobs=1)]: Done 642 out of 642 | elapsed:    6.2s finished\n"
     ]
    }
   ],
   "source": [
    "from mgktools.data.data import Dataset\n",
    "dataset = Dataset.from_df(\n",
    "    df,\n",
    "    pure_columns = ['smiles'],\n",
    "    mixture_columns = None,\n",
    "    reaction_columns = None,\n",
    "    feature_columns = None,\n",
    "    target_columns = ['freesolv'],\n",
    "    features_generator = None,\n",
    "    n_jobs = 1\n",
    ")"
   ]
  },
  {
   "cell_type": "code",
   "execution_count": 3,
   "id": "18361d8a",
   "metadata": {},
   "outputs": [],
   "source": [
    "# Save the dataset as dataset.pkl.\n",
    "dataset.save(path='', filename='dataset.pkl', overwrite=True)"
   ]
  },
  {
   "cell_type": "markdown",
   "id": "c266c096",
   "metadata": {},
   "source": [
    "# Set marginalized graph kernel(MGK)"
   ]
  },
  {
   "cell_type": "code",
   "execution_count": 4,
   "id": "5e1ee7e7",
   "metadata": {},
   "outputs": [
    {
     "name": "stderr",
     "output_type": "stream",
     "text": [
      "/home/xiangyan/apps/miniconda3/envs/test/lib/python3.8/site-packages/graphdot/codegen/sympy_printer.py:4: SymPyDeprecationWarning: \n",
      "\n",
      "The sympy.printing.cxxcode submodule is deprecated. It has been renamed to\n",
      "sympy.printing.cxx.\n",
      "\n",
      "See https://docs.sympy.org/latest/explanation/active-deprecations.html#deprecated-printing-code-submodules\n",
      "for details.\n",
      "\n",
      "This has been deprecated since SymPy version 1.7. It\n",
      "will be removed in a future version of SymPy.\n",
      "\n",
      "  from sympy.printing.cxxcode import CXX11CodePrinter\n"
     ]
    },
    {
     "data": {
      "text/plain": [
       "<mgktools.kernels.GraphKernel.NormalizationMolSize at 0x7f45b51f4f40>"
      ]
     },
     "execution_count": 4,
     "metadata": {},
     "output_type": "execute_result"
    }
   ],
   "source": [
    "from mgktools.kernels.utils import get_kernel_config\n",
    "kernel_config = get_kernel_config(\n",
    "dataset,\n",
    "graph_kernel_type = 'graph',\n",
    "# arguments for vectorized features.\n",
    "features_hyperparameters=None,\n",
    "features_hyperparameters_bounds=None,\n",
    "features_hyperparameters_file = None,\n",
    "single_features_hyperparameter = False,\n",
    "# arguments for marginalized graph kernel\n",
    "mgk_hyperparameters_files = ['../hyperparameters/product-msnorm.json'],\n",
    "# arguments for pre-computed kernel\n",
    "kernel_dict = None,\n",
    "kernel_pkl = 'kernel.pkl'\n",
    ")\n",
    "kernel = kernel_config.kernel\n",
    "kernel"
   ]
  },
  {
   "cell_type": "markdown",
   "id": "c060424e",
   "metadata": {},
   "source": [
    "# Compute MGK matrix"
   ]
  },
  {
   "cell_type": "code",
   "execution_count": 5,
   "id": "8274e99d",
   "metadata": {
    "scrolled": true
   },
   "outputs": [
    {
     "data": {
      "text/plain": [
       "array([[1.        , 0.02429088, 0.06919944, ..., 0.3976954 , 0.47657333,\n",
       "        0.07443282],\n",
       "       [0.02429088, 1.        , 0.23255556, ..., 0.14180597, 0.04156788,\n",
       "        0.16690495],\n",
       "       [0.06919944, 0.23255556, 1.        , ..., 0.29001227, 0.14865806,\n",
       "        0.24395648],\n",
       "       ...,\n",
       "       [0.3976954 , 0.14180597, 0.29001227, ..., 1.        , 0.34119292,\n",
       "        0.3991222 ],\n",
       "       [0.47657333, 0.04156788, 0.14865806, ..., 0.34119292, 1.        ,\n",
       "        0.11839457],\n",
       "       [0.07443282, 0.16690495, 0.24395648, ..., 0.3991222 , 0.11839457,\n",
       "        1.        ]])"
      ]
     },
     "execution_count": 5,
     "metadata": {},
     "output_type": "execute_result"
    }
   ],
   "source": [
    "dataset.graph_kernel_type = 'graph'\n",
    "K = kernel(dataset.X)\n",
    "K"
   ]
  },
  {
   "cell_type": "markdown",
   "id": "b63081f2",
   "metadata": {},
   "source": [
    "# Gaussian process regression (GPR)"
   ]
  },
  {
   "cell_type": "code",
   "execution_count": 6,
   "id": "c537e64c",
   "metadata": {},
   "outputs": [
    {
     "data": {
      "text/plain": [
       "[<matplotlib.lines.Line2D at 0x7f453a74d670>]"
      ]
     },
     "execution_count": 6,
     "metadata": {},
     "output_type": "execute_result"
    },
    {
     "data": {
      "image/png": "[encoded data removed]",
      "text/plain": [
       "<Figure size 432x288 with 1 Axes>"
      ]
     },
     "metadata": {
      "needs_background": "light"
     },
     "output_type": "display_data"
    }
   ],
   "source": [
    "from mgktools.data import dataset_split\n",
    "train, test = dataset_split(dataset, \n",
    "                            split_type='random',\n",
    "                            sizes=[0.8, 0.2])\n",
    "from mgktools.models.regression.GPRgraphdot.gpr import GPR\n",
    "gpr = GPR(kernel=kernel,\n",
    "          optimizer=None,\n",
    "          alpha=0.01,\n",
    "          normalize_y=True,\n",
    "          batch_size=None)\n",
    "gpr.fit(train.X, train.y)\n",
    "y_pred = gpr.predict(test.X)\n",
    "import matplotlib.pyplot as plt\n",
    "plt.scatter(test.y, y_pred)\n",
    "plt.plot([-25, 5], [-25, 5])"
   ]
  }
 ],
 "metadata": {
  "kernelspec": {
   "display_name": "test",
   "language": "python",
   "name": "test"
  },
  "language_info": {
   "codemirror_mode": {
    "name": "ipython",
    "version": 3
   },
   "file_extension": ".py",
   "mimetype": "text/x-python",
   "name": "python",
   "nbconvert_exporter": "python",
   "pygments_lexer": "ipython3",
   "version": "3.8.13"
  }
 },
 "nbformat": 4,
 "nbformat_minor": 5
}
