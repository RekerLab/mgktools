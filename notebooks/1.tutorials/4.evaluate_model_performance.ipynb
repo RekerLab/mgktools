{
 "cells": [
  {
   "cell_type": "code",
   "execution_count": 1,
   "id": "22f0c2dc",
   "metadata": {},
   "outputs": [],
   "source": [
    "# Dataset.\n",
    "from mgktools.data.data import Dataset\n",
    "dataset = Dataset.load(path='freesolv', filename='dataset.pkl')\n",
    "dataset.graph_kernel_type = 'pre-computed'"
   ]
  },
  {
   "cell_type": "code",
   "execution_count": 2,
   "id": "38beb499",
   "metadata": {},
   "outputs": [],
   "source": [
    "# Kernel\n",
    "# Using pre-computed kernel is much faster in cross validation.\n",
    "from mgktools.kernels.utils import get_kernel_config\n",
    "kernel_config = get_kernel_config(\n",
    "    dataset,\n",
    "    graph_kernel_type = 'pre-computed',\n",
    "    kernel_pkl = 'freesolv/kernel.pkl'\n",
    ")\n",
    "kernel = kernel_config.kernel"
   ]
  },
  {
   "cell_type": "code",
   "execution_count": 3,
   "id": "6716541b",
   "metadata": {},
   "outputs": [],
   "source": [
    "# Model\n",
    "from mgktools.models.regression.GPRgraphdot import GPR\n",
    "gpr = GPR(kernel=kernel,\n",
    "          optimizer=None,\n",
    "          alpha=0.01,\n",
    "          normalize_y=True)"
   ]
  },
  {
   "cell_type": "code",
   "execution_count": 5,
   "id": "43ff5964",
   "metadata": {},
   "outputs": [
    {
     "name": "stderr",
     "output_type": "stream",
     "text": [
      "/home/yanxiang/apps/miniforge3/envs/mgktools/lib/python3.10/site-packages/sklearn/metrics/_regression.py:492: FutureWarning: 'squared' is deprecated in version 1.4 and will be removed in 1.6. To calculate the root mean squared error, use the function'root_mean_squared_error'.\n",
      "  warnings.warn(\n",
      "/home/yanxiang/apps/miniforge3/envs/mgktools/lib/python3.10/site-packages/sklearn/metrics/_regression.py:492: FutureWarning: 'squared' is deprecated in version 1.4 and will be removed in 1.6. To calculate the root mean squared error, use the function'root_mean_squared_error'.\n",
      "  warnings.warn(\n",
      "/home/yanxiang/apps/miniforge3/envs/mgktools/lib/python3.10/site-packages/sklearn/metrics/_regression.py:492: FutureWarning: 'squared' is deprecated in version 1.4 and will be removed in 1.6. To calculate the root mean squared error, use the function'root_mean_squared_error'.\n",
      "  warnings.warn(\n",
      "/home/yanxiang/apps/miniforge3/envs/mgktools/lib/python3.10/site-packages/sklearn/metrics/_regression.py:492: FutureWarning: 'squared' is deprecated in version 1.4 and will be removed in 1.6. To calculate the root mean squared error, use the function'root_mean_squared_error'.\n",
      "  warnings.warn(\n",
      "/home/yanxiang/apps/miniforge3/envs/mgktools/lib/python3.10/site-packages/sklearn/metrics/_regression.py:492: FutureWarning: 'squared' is deprecated in version 1.4 and will be removed in 1.6. To calculate the root mean squared error, use the function'root_mean_squared_error'.\n",
      "  warnings.warn(\n",
      "/home/yanxiang/apps/miniforge3/envs/mgktools/lib/python3.10/site-packages/sklearn/metrics/_regression.py:492: FutureWarning: 'squared' is deprecated in version 1.4 and will be removed in 1.6. To calculate the root mean squared error, use the function'root_mean_squared_error'.\n",
      "  warnings.warn(\n",
      "/home/yanxiang/apps/miniforge3/envs/mgktools/lib/python3.10/site-packages/sklearn/metrics/_regression.py:492: FutureWarning: 'squared' is deprecated in version 1.4 and will be removed in 1.6. To calculate the root mean squared error, use the function'root_mean_squared_error'.\n",
      "  warnings.warn(\n",
      "/home/yanxiang/apps/miniforge3/envs/mgktools/lib/python3.10/site-packages/sklearn/metrics/_regression.py:492: FutureWarning: 'squared' is deprecated in version 1.4 and will be removed in 1.6. To calculate the root mean squared error, use the function'root_mean_squared_error'.\n",
      "  warnings.warn(\n",
      "/home/yanxiang/apps/miniforge3/envs/mgktools/lib/python3.10/site-packages/sklearn/metrics/_regression.py:492: FutureWarning: 'squared' is deprecated in version 1.4 and will be removed in 1.6. To calculate the root mean squared error, use the function'root_mean_squared_error'.\n",
      "  warnings.warn(\n"
     ]
    },
    {
     "name": "stdout",
     "output_type": "stream",
     "text": [
      "\n",
      "Test set:\n",
      "rmse: 1.30514 +/- 0.17748\n",
      "r2: 0.88755 +/- 0.01721\n"
     ]
    },
    {
     "name": "stderr",
     "output_type": "stream",
     "text": [
      "/home/yanxiang/apps/miniforge3/envs/mgktools/lib/python3.10/site-packages/sklearn/metrics/_regression.py:492: FutureWarning: 'squared' is deprecated in version 1.4 and will be removed in 1.6. To calculate the root mean squared error, use the function'root_mean_squared_error'.\n",
      "  warnings.warn(\n"
     ]
    },
    {
     "data": {
      "text/plain": [
       "1.3051363865691983"
      ]
     },
     "execution_count": 5,
     "metadata": {},
     "output_type": "execute_result"
    }
   ],
   "source": [
    "# Monte-Carlo cross-validation\n",
    "from mgktools.evaluators.cross_validation import Evaluator\n",
    "evaluator = Evaluator(save_dir='freesolv',\n",
    "                      dataset=dataset,\n",
    "                      model=gpr,\n",
    "                      task_type='regression',\n",
    "                      split_type='random',\n",
    "                      split_sizes=[0.8, 0.2],\n",
    "                      metrics=['rmse', 'r2'],\n",
    "                      num_folds=10,\n",
    "                      return_std=True,\n",
    "                      n_similar=5,\n",
    "                      kernel=kernel\n",
    "                      )\n",
    "evaluator.evaluate()"
   ]
  },
  {
   "cell_type": "code",
   "execution_count": null,
   "id": "1d0c4792",
   "metadata": {},
   "outputs": [],
   "source": [
    "# Leave-one-out cross-validation(LOOCV).\n",
    "evaluator = Evaluator(save_dir='freesolv',\n",
    "                      dataset=dataset,\n",
    "                      model=gpr,\n",
    "                      task_type='regression',\n",
    "                      split_type='loocv',\n",
    "                      split_sizes=None,\n",
    "                      metrics=['rmse', 'r2'],\n",
    "                      num_folds=10,\n",
    "                      return_std=True,\n",
    "                      n_similar=5,\n",
    "                      kernel=kernel\n",
    "                      )\n",
    "evaluator.evaluate()"
   ]
  },
  {
   "cell_type": "code",
   "execution_count": null,
   "id": "7fbf2ebd",
   "metadata": {},
   "outputs": [],
   "source": []
  }
 ],
 "metadata": {
  "kernelspec": {
   "display_name": "mgktools",
   "language": "python",
   "name": "mgktools"
  },
  "language_info": {
   "codemirror_mode": {
    "name": "ipython",
    "version": 3
   },
   "file_extension": ".py",
   "mimetype": "text/x-python",
   "name": "python",
   "nbconvert_exporter": "python",
   "pygments_lexer": "ipython3",
   "version": "3.10.14"
  }
 },
 "nbformat": 4,
 "nbformat_minor": 5
}
