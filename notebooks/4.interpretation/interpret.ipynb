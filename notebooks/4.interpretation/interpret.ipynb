{
 "cells": [
  {
   "cell_type": "code",
   "execution_count": 1,
   "id": "a8a53106",
   "metadata": {},
   "outputs": [],
   "source": [
    "import rdkit.Chem.AllChem as Chem\n",
    "import json\n",
    "import pandas as pd\n",
    "import numpy as np\n",
    "from mgktools.interpret.interpret import interpret_training_mols, interpret_atoms"
   ]
  },
  {
   "cell_type": "code",
   "execution_count": 2,
   "id": "7fc64e45",
   "metadata": {},
   "outputs": [],
   "source": [
    "from mgktools.hyperparameters import product_pnorm\n",
    "df = pd.read_csv('../datasets/freesolv.csv')\n",
    "smiles_to_be_interpret = 'c1ccccc1CCO'\n",
    "smiles_train = df.smiles\n",
    "targets_train = df['freesolv']\n",
    "n_mol = 10\n",
    "alpha = 0.01\n",
    "mgk_hyperparameters_file = product_pnorm"
   ]
  },
  {
   "cell_type": "markdown",
   "id": "80584c3c",
   "metadata": {},
   "source": [
    "# Interpretation as the sum of the contribution of the molecules in training set"
   ]
  },
  {
   "cell_type": "code",
   "execution_count": 3,
   "id": "f00c6c05",
   "metadata": {},
   "outputs": [
    {
     "name": "stderr",
     "output_type": "stream",
     "text": [
      "[Parallel(n_jobs=1)]: Done  49 tasks      | elapsed:    0.4s\n",
      "[Parallel(n_jobs=1)]: Done 199 tasks      | elapsed:    1.8s\n",
      "[Parallel(n_jobs=1)]: Done 449 tasks      | elapsed:    4.0s\n"
     ]
    }
   ],
   "source": [
    "y_pred, y_std, df_interpret= interpret_training_mols(\n",
    "    [smiles_to_be_interpret], \n",
    "    smiles_train, \n",
    "    targets_train, \n",
    "    alpha=alpha, \n",
    "    n_mol=10, \n",
    "    output_order='sort_by_value', \n",
    "    mgk_hyperparameters_file=mgk_hyperparameters_file,\n",
    "    n_jobs=1)"
   ]
  },
  {
   "cell_type": "code",
   "execution_count": 4,
   "id": "c2b9527c",
   "metadata": {},
   "outputs": [
    {
     "name": "stdout",
     "output_type": "stream",
     "text": [
      "Prediction: -6.767196 +/- 0.531931\n",
      "\n",
      "[                               smiles_train  contribution_percentage  \\\n",
      "0                             c1ccc(cc1)CCO                 0.911020   \n",
      "1                            c1ccc(cc1)CCCO                 0.022730   \n",
      "2        c1ccc2c(c1)C(=O)c3cccc(c3C2=O)NCCO                 0.005894   \n",
      "3                              c1ccc(cc1)CO                 0.010676   \n",
      "4  C([C@H]([C@H]([C@@H]([C@@H](CO)O)O)O)O)O                 0.001245   \n",
      "5                        c1ccc(cc1)Cn2ccnc2                 0.003379   \n",
      "6                            c1ccc(cc1)OC=O                 0.006666   \n",
      "7             c1ccc(cc1)n2c(=O)c(c(cn2)N)Cl                 0.001498   \n",
      "8                       CN(C)C(=O)Nc1ccccc1                 0.002259   \n",
      "9                CC(=O)OCC(COC(=O)C)OC(=O)C                 0.002225   \n",
      "\n",
      "   contribution_value  \n",
      "0           -6.185827  \n",
      "1           -0.157293  \n",
      "2           -0.083748  \n",
      "3           -0.070677  \n",
      "4           -0.029408  \n",
      "5           -0.025781  \n",
      "6           -0.025465  \n",
      "7           -0.024611  \n",
      "8           -0.020624  \n",
      "9           -0.019673  ]\n"
     ]
    }
   ],
   "source": [
    "print('Prediction: %f +/- %f\\n' % (y_pred, y_std * targets_train.std()))\n",
    "print(df_interpret)"
   ]
  },
  {
   "cell_type": "markdown",
   "id": "d118c139",
   "metadata": {},
   "source": [
    "# Interpretation as the sum of the contribution of atoms"
   ]
  },
  {
   "cell_type": "code",
   "execution_count": 5,
   "id": "43156580",
   "metadata": {},
   "outputs": [],
   "source": [
    "y_pred, y_std, mol = interpret_atoms(\n",
    "    smiles_to_be_interpret, \n",
    "    smiles_train, \n",
    "    targets_train, \n",
    "    alpha=alpha, \n",
    "    mgk_hyperparameters_file=mgk_hyperparameters_file)"
   ]
  },
  {
   "cell_type": "code",
   "execution_count": 6,
   "id": "029e0acc",
   "metadata": {},
   "outputs": [
    {
     "name": "stdout",
     "output_type": "stream",
     "text": [
      "Prediction: -6.767331 +/- 0.531915\n",
      "\n"
     ]
    },
    {
     "data": {
      "image/png": "[encoded data removed]",
      "text/plain": [
       "<rdkit.Chem.rdchem.Mol at 0x736b8a39d1c0>"
      ]
     },
     "execution_count": 6,
     "metadata": {},
     "output_type": "execute_result"
    }
   ],
   "source": [
    "print('Prediction: %f +/- %f\\n' % (y_pred, y_std * targets_train.std()))\n",
    "mol"
   ]
  },
  {
   "cell_type": "code",
   "execution_count": 7,
   "id": "6e917e41",
   "metadata": {},
   "outputs": [
    {
     "data": {
      "image/svg+xml": [
       "<svg xmlns=\"http://www.w3.org/2000/svg\" xmlns:rdkit=\"http://www.rdkit.org/xml\" xmlns:xlink=\"http://www.w3.org/1999/xlink\" version=\"1.1\" baseProfile=\"full\" xml:space=\"preserve\" width=\"500px\" height=\"500px\" viewBox=\"0 0 500 500\">\n",
       "<!-- END OF HEADER -->\n",
       "<rect style=\"opacity:1.0;fill:#FFFFFF;stroke:none\" width=\"500.0\" height=\"500.0\" x=\"0.0\" y=\"0.0\"> </rect>\n",
       "<path class=\"bond-1 atom-1 atom-2\" d=\"M 52.2,259.1 L 107.4,316.9 L 94.2,329.5 L 31.8,264.0 Z\" style=\"fill:#FF0000;fill-rule:evenodd;fill-opacity:1;stroke:#FF0000;stroke-width:0.0px;stroke-linecap:butt;stroke-linejoin:miter;stroke-opacity:1;\"/>\n",
       "<path class=\"bond-2 atom-2 atom-3\" d=\"M 57.4,177.2 L 74.8,182.4 L 52.2,259.1 L 31.8,264.0 Z\" style=\"fill:#FF0000;fill-rule:evenodd;fill-opacity:1;stroke:#FF0000;stroke-width:0.0px;stroke-linecap:butt;stroke-linejoin:miter;stroke-opacity:1;\"/>\n",
       "<ellipse cx=\"100.8\" cy=\"323.2\" rx=\"17.0\" ry=\"17.0\" class=\"atom-1\" style=\"fill:#FF0000;fill-rule:evenodd;stroke:#FF0000;stroke-width:1.0px;stroke-linecap:butt;stroke-linejoin:miter;stroke-opacity:1\"/>\n",
       "<ellipse cx=\"42.0\" cy=\"261.5\" rx=\"17.0\" ry=\"17.0\" class=\"atom-2\" style=\"fill:#FF0000;fill-rule:evenodd;stroke:#FF0000;stroke-width:1.0px;stroke-linecap:butt;stroke-linejoin:miter;stroke-opacity:1\"/>\n",
       "<ellipse cx=\"66.1\" cy=\"179.8\" rx=\"17.0\" ry=\"17.0\" class=\"atom-3\" style=\"fill:#FF0000;fill-rule:evenodd;stroke:#FF0000;stroke-width:1.0px;stroke-linecap:butt;stroke-linejoin:miter;stroke-opacity:1\"/>\n",
       "<ellipse cx=\"443.3\" cy=\"243.2\" rx=\"31.7\" ry=\"17.5\" class=\"atom-8\" style=\"fill:#00FF00;fill-rule:evenodd;stroke:#00FF00;stroke-width:1.0px;stroke-linecap:butt;stroke-linejoin:miter;stroke-opacity:1\"/>\n",
       "<path class=\"bond-0 atom-0 atom-1\" d=\"M 183.6,303.2 L 100.8,323.2\" style=\"fill:none;fill-rule:evenodd;stroke:#000000;stroke-width:2.0px;stroke-linecap:butt;stroke-linejoin:miter;stroke-opacity:1\"/>\n",
       "<path class=\"bond-0 atom-0 atom-1\" d=\"M 173.4,292.5 L 105.0,309.1\" style=\"fill:none;fill-rule:evenodd;stroke:#000000;stroke-width:2.0px;stroke-linecap:butt;stroke-linejoin:miter;stroke-opacity:1\"/>\n",
       "<path class=\"bond-1 atom-1 atom-2\" d=\"M 100.8,323.2 L 42.0,261.5\" style=\"fill:none;fill-rule:evenodd;stroke:#000000;stroke-width:2.0px;stroke-linecap:butt;stroke-linejoin:miter;stroke-opacity:1\"/>\n",
       "<path class=\"bond-2 atom-2 atom-3\" d=\"M 42.0,261.5 L 66.1,179.8\" style=\"fill:none;fill-rule:evenodd;stroke:#000000;stroke-width:2.0px;stroke-linecap:butt;stroke-linejoin:miter;stroke-opacity:1\"/>\n",
       "<path class=\"bond-2 atom-2 atom-3\" d=\"M 56.4,258.1 L 76.3,190.5\" style=\"fill:none;fill-rule:evenodd;stroke:#000000;stroke-width:2.0px;stroke-linecap:butt;stroke-linejoin:miter;stroke-opacity:1\"/>\n",
       "<path class=\"bond-3 atom-3 atom-4\" d=\"M 66.1,179.8 L 148.9,159.7\" style=\"fill:none;fill-rule:evenodd;stroke:#000000;stroke-width:2.0px;stroke-linecap:butt;stroke-linejoin:miter;stroke-opacity:1\"/>\n",
       "<path class=\"bond-4 atom-4 atom-5\" d=\"M 148.9,159.7 L 207.6,221.4\" style=\"fill:none;fill-rule:evenodd;stroke:#000000;stroke-width:2.0px;stroke-linecap:butt;stroke-linejoin:miter;stroke-opacity:1\"/>\n",
       "<path class=\"bond-4 atom-4 atom-5\" d=\"M 144.7,173.9 L 193.3,224.9\" style=\"fill:none;fill-rule:evenodd;stroke:#000000;stroke-width:2.0px;stroke-linecap:butt;stroke-linejoin:miter;stroke-opacity:1\"/>\n",
       "<path class=\"bond-5 atom-5 atom-6\" d=\"M 207.6,221.4 L 290.5,201.4\" style=\"fill:none;fill-rule:evenodd;stroke:#000000;stroke-width:2.0px;stroke-linecap:butt;stroke-linejoin:miter;stroke-opacity:1\"/>\n",
       "<path class=\"bond-6 atom-6 atom-7\" d=\"M 290.5,201.4 L 349.2,263.1\" style=\"fill:none;fill-rule:evenodd;stroke:#000000;stroke-width:2.0px;stroke-linecap:butt;stroke-linejoin:miter;stroke-opacity:1\"/>\n",
       "<path class=\"bond-7 atom-7 atom-8\" d=\"M 349.2,263.1 L 383.7,254.7\" style=\"fill:none;fill-rule:evenodd;stroke:#000000;stroke-width:2.0px;stroke-linecap:butt;stroke-linejoin:miter;stroke-opacity:1\"/>\n",
       "<path class=\"bond-7 atom-7 atom-8\" d=\"M 383.7,254.7 L 418.1,246.4\" style=\"fill:none;fill-rule:evenodd;stroke:#FF0000;stroke-width:2.0px;stroke-linecap:butt;stroke-linejoin:miter;stroke-opacity:1\"/>\n",
       "<path class=\"bond-8 atom-5 atom-0\" d=\"M 207.6,221.4 L 183.6,303.2\" style=\"fill:none;fill-rule:evenodd;stroke:#000000;stroke-width:2.0px;stroke-linecap:butt;stroke-linejoin:miter;stroke-opacity:1\"/>\n",
       "<path d=\"M 179.5,304.2 L 183.6,303.2 L 184.8,299.1\" style=\"fill:none;stroke:#000000;stroke-width:2.0px;stroke-linecap:butt;stroke-linejoin:miter;stroke-opacity:1;\"/>\n",
       "<path d=\"M 104.9,322.2 L 100.8,323.2 L 97.9,320.1\" style=\"fill:none;stroke:#000000;stroke-width:2.0px;stroke-linecap:butt;stroke-linejoin:miter;stroke-opacity:1;\"/>\n",
       "<path d=\"M 45.0,264.6 L 42.0,261.5 L 43.2,257.4\" style=\"fill:none;stroke:#000000;stroke-width:2.0px;stroke-linecap:butt;stroke-linejoin:miter;stroke-opacity:1;\"/>\n",
       "<path d=\"M 64.9,183.9 L 66.1,179.8 L 70.2,178.8\" style=\"fill:none;stroke:#000000;stroke-width:2.0px;stroke-linecap:butt;stroke-linejoin:miter;stroke-opacity:1;\"/>\n",
       "<path d=\"M 144.7,160.8 L 148.9,159.7 L 151.8,162.8\" style=\"fill:none;stroke:#000000;stroke-width:2.0px;stroke-linecap:butt;stroke-linejoin:miter;stroke-opacity:1;\"/>\n",
       "<path d=\"M 286.3,202.4 L 290.5,201.4 L 293.4,204.5\" style=\"fill:none;stroke:#000000;stroke-width:2.0px;stroke-linecap:butt;stroke-linejoin:miter;stroke-opacity:1;\"/>\n",
       "<path d=\"M 346.3,260.0 L 349.2,263.1 L 350.9,262.7\" style=\"fill:none;stroke:#000000;stroke-width:2.0px;stroke-linecap:butt;stroke-linejoin:miter;stroke-opacity:1;\"/>\n",
       "<path class=\"atom-8\" d=\"M 420.9 243.1 Q 420.9 237.3, 423.8 234.1 Q 426.7 230.8, 432.0 230.8 Q 437.4 230.8, 440.2 234.1 Q 443.1 237.3, 443.1 243.1 Q 443.1 249.0, 440.2 252.3 Q 437.3 255.6, 432.0 255.6 Q 426.7 255.6, 423.8 252.3 Q 420.9 249.0, 420.9 243.1 M 432.0 252.9 Q 435.7 252.9, 437.7 250.4 Q 439.7 248.0, 439.7 243.1 Q 439.7 238.4, 437.7 236.0 Q 435.7 233.6, 432.0 233.6 Q 428.3 233.6, 426.3 236.0 Q 424.3 238.3, 424.3 243.1 Q 424.3 248.0, 426.3 250.4 Q 428.3 252.9, 432.0 252.9 \" fill=\"#FF0000\"/>\n",
       "<path class=\"atom-8\" d=\"M 446.8 231.1 L 450.1 231.1 L 450.1 241.4 L 462.5 241.4 L 462.5 231.1 L 465.7 231.1 L 465.7 255.2 L 462.5 255.2 L 462.5 244.1 L 450.1 244.1 L 450.1 255.2 L 446.8 255.2 L 446.8 231.1 \" fill=\"#FF0000\"/>\n",
       "</svg>"
      ],
      "text/plain": [
       "<IPython.core.display.SVG object>"
      ]
     },
     "metadata": {},
     "output_type": "display_data"
    }
   ],
   "source": [
    "from mgktools.interpret.utils import display_mol\n",
    "display_mol(mol, highlight_threshold_upper=-0.5, highlight_threshold_lower=-2.5, remove_number=True)"
   ]
  }
 ],
 "metadata": {
  "kernelspec": {
   "display_name": "mgktools",
   "language": "python",
   "name": "mgktools"
  },
  "language_info": {
   "codemirror_mode": {
    "name": "ipython",
    "version": 3
   },
   "file_extension": ".py",
   "mimetype": "text/x-python",
   "name": "python",
   "nbconvert_exporter": "python",
   "pygments_lexer": "ipython3",
   "version": "3.10.14"
  }
 },
 "nbformat": 4,
 "nbformat_minor": 5
}
