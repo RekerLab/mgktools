{
 "cells": [
  {
   "cell_type": "code",
   "execution_count": 1,
   "id": "a8a53106",
   "metadata": {},
   "outputs": [
    {
     "name": "stderr",
     "output_type": "stream",
     "text": [
      "WARNING:root:No normalization for BCUT2D_MWHI\n",
      "WARNING:root:No normalization for BCUT2D_MWLOW\n",
      "WARNING:root:No normalization for BCUT2D_CHGHI\n",
      "WARNING:root:No normalization for BCUT2D_CHGLO\n",
      "WARNING:root:No normalization for BCUT2D_LOGPHI\n",
      "WARNING:root:No normalization for BCUT2D_LOGPLOW\n",
      "WARNING:root:No normalization for BCUT2D_MRHI\n",
      "WARNING:root:No normalization for BCUT2D_MRLOW\n",
      "/home/xiangyan/apps/miniconda3/envs/mgktools/lib/python3.9/site-packages/graphdot/codegen/sympy_printer.py:4: SymPyDeprecationWarning: \n",
      "\n",
      "The sympy.printing.cxxcode submodule is deprecated. It has been renamed to\n",
      "sympy.printing.cxx.\n",
      "\n",
      "See https://docs.sympy.org/latest/explanation/active-deprecations.html#deprecated-printing-code-submodules\n",
      "for details.\n",
      "\n",
      "This has been deprecated since SymPy version 1.7. It\n",
      "will be removed in a future version of SymPy.\n",
      "\n",
      "  from sympy.printing.cxxcode import CXX11CodePrinter\n"
     ]
    }
   ],
   "source": [
    "import rdkit.Chem.AllChem as Chem\n",
    "import json\n",
    "import pandas as pd\n",
    "import numpy as np\n",
    "from mgktools.interpret.interpret import interpret_training_mols, interpret_atoms"
   ]
  },
  {
   "cell_type": "code",
   "execution_count": 2,
   "id": "7fc64e45",
   "metadata": {},
   "outputs": [],
   "source": [
    "from mgktools.hyperparameters import additive_msnorm\n",
    "df = pd.read_csv('../datasets/freesolv.csv')\n",
    "smiles_to_be_interpret = 'c1ccccc1CCO'\n",
    "smiles_train = df.smiles\n",
    "targets_train = df['freesolv']\n",
    "n_mol = 10\n",
    "alpha = 0.01\n",
    "mgk_hyperparameters_file = additive_msnorm"
   ]
  },
  {
   "cell_type": "markdown",
   "id": "80584c3c",
   "metadata": {},
   "source": [
    "# Interpretation as the sum of the contribution of the molecules in training set"
   ]
  },
  {
   "cell_type": "code",
   "execution_count": 3,
   "id": "f00c6c05",
   "metadata": {},
   "outputs": [
    {
     "name": "stderr",
     "output_type": "stream",
     "text": [
      "[Parallel(n_jobs=1)]: Using backend SequentialBackend with 1 concurrent workers.\n",
      "[Parallel(n_jobs=1)]: Done 642 out of 642 | elapsed:   40.1s finished\n",
      "[Parallel(n_jobs=1)]: Using backend SequentialBackend with 1 concurrent workers.\n",
      "[Parallel(n_jobs=1)]: Done   1 out of   1 | elapsed:    0.1s finished\n"
     ]
    }
   ],
   "source": [
    "y_pred, y_std, df_interpret= interpret_training_mols(\n",
    "    smiles_to_be_interpret, \n",
    "    smiles_train, \n",
    "    targets_train, \n",
    "    alpha=alpha, \n",
    "    n_mol=10, \n",
    "    output_order='sort_by_value', \n",
    "    mgk_hyperparameters_file=mgk_hyperparameters_file,\n",
    "    n_jobs=1)"
   ]
  },
  {
   "cell_type": "code",
   "execution_count": 4,
   "id": "c2b9527c",
   "metadata": {},
   "outputs": [
    {
     "name": "stdout",
     "output_type": "stream",
     "text": [
      "Prediction: -5.739816 +/- 1.856382\n",
      "\n",
      "                            smiles_train  contribution_percentage  \\\n",
      "0                          c1ccc(cc1)CCO                 0.574527   \n",
      "1                         c1ccc(cc1)CCCO                 0.077173   \n",
      "2                           c1ccc(cc1)CO                 0.052879   \n",
      "3  C1[C@H]([C@@H]([C@H]([C@H](O1)O)O)O)O                 0.003362   \n",
      "4                         CCCc1ccc(cc1)O                 0.013028   \n",
      "5                            CCOc1ccccc1                 0.028360   \n",
      "6                          c1ccc(cc1)CBr                 0.024986   \n",
      "7                          COc1cccc(c1)O                 0.007012   \n",
      "8                          c1ccc(cc1)CCl                 0.025571   \n",
      "9                         c1ccc(cc1)OC=O                 0.012794   \n",
      "\n",
      "   contribution_value  \n",
      "0           -3.901040  \n",
      "1           -0.534035  \n",
      "2           -0.350057  \n",
      "3           -0.068984  \n",
      "4           -0.067878  \n",
      "5           -0.062960  \n",
      "6           -0.059467  \n",
      "7           -0.053711  \n",
      "8           -0.049352  \n",
      "9           -0.048874  \n"
     ]
    }
   ],
   "source": [
    "print('Prediction: %f +/- %f\\n' % (y_pred, y_std * targets_train.std()))\n",
    "print(df_interpret)"
   ]
  },
  {
   "cell_type": "markdown",
   "id": "d118c139",
   "metadata": {},
   "source": [
    "# Interpretation as the sum of the contribution of atoms"
   ]
  },
  {
   "cell_type": "code",
   "execution_count": 5,
   "id": "43156580",
   "metadata": {},
   "outputs": [],
   "source": [
    "y_pred, y_std, mol = interpret_atoms(\n",
    "    smiles_to_be_interpret, \n",
    "    smiles_train, \n",
    "    targets_train, \n",
    "    alpha=alpha, \n",
    "    mgk_hyperparameters_file=mgk_hyperparameters_file)"
   ]
  },
  {
   "cell_type": "code",
   "execution_count": 6,
   "id": "029e0acc",
   "metadata": {},
   "outputs": [
    {
     "name": "stdout",
     "output_type": "stream",
     "text": [
      "Prediction: -5.739841 +/- 1.856376\n",
      "\n"
     ]
    },
    {
     "data": {
      "image/png": "[encoded data removed]",
      "text/plain": [
       "<rdkit.Chem.rdchem.Mol at 0x7fa2672cd7c0>"
      ]
     },
     "execution_count": 6,
     "metadata": {},
     "output_type": "execute_result"
    }
   ],
   "source": [
    "print('Prediction: %f +/- %f\\n' % (y_pred, y_std * targets_train.std()))\n",
    "mol"
   ]
  },
  {
   "cell_type": "code",
   "execution_count": null,
   "id": "6e917e41",
   "metadata": {},
   "outputs": [],
   "source": []
  }
 ],
 "metadata": {
  "kernelspec": {
   "display_name": "mgktools",
   "language": "python",
   "name": "mgktools"
  },
  "language_info": {
   "codemirror_mode": {
    "name": "ipython",
    "version": 3
   },
   "file_extension": ".py",
   "mimetype": "text/x-python",
   "name": "python",
   "nbconvert_exporter": "python",
   "pygments_lexer": "ipython3",
   "version": "3.9.12"
  }
 },
 "nbformat": 4,
 "nbformat_minor": 5
}
