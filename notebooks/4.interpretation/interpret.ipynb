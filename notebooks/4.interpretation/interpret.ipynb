{
 "cells": [
  {
   "cell_type": "code",
   "execution_count": 1,
   "id": "a8a53106",
   "metadata": {},
   "outputs": [
    {
     "name": "stderr",
     "output_type": "stream",
     "text": [
      "WARNING:root:No normalization for BCUT2D_MWHI\n",
      "WARNING:root:No normalization for BCUT2D_MWLOW\n",
      "WARNING:root:No normalization for BCUT2D_CHGHI\n",
      "WARNING:root:No normalization for BCUT2D_CHGLO\n",
      "WARNING:root:No normalization for BCUT2D_LOGPHI\n",
      "WARNING:root:No normalization for BCUT2D_LOGPLOW\n",
      "WARNING:root:No normalization for BCUT2D_MRHI\n",
      "WARNING:root:No normalization for BCUT2D_MRLOW\n",
      "/home/xiangyan/apps/miniconda3/envs/graph_attribution/lib/python3.10/site-packages/graphdot/codegen/sympy_printer.py:4: SymPyDeprecationWarning: \n",
      "\n",
      "The sympy.printing.cxxcode submodule is deprecated. It has been renamed to\n",
      "sympy.printing.cxx.\n",
      "\n",
      "See https://docs.sympy.org/latest/explanation/active-deprecations.html#deprecated-printing-code-submodules\n",
      "for details.\n",
      "\n",
      "This has been deprecated since SymPy version 1.7. It\n",
      "will be removed in a future version of SymPy.\n",
      "\n",
      "  from sympy.printing.cxxcode import CXX11CodePrinter\n"
     ]
    }
   ],
   "source": [
    "import rdkit.Chem.AllChem as Chem\n",
    "import json\n",
    "import pandas as pd\n",
    "import numpy as np\n",
    "from mgktools.interpret.interpret import interpret_training_mols, interpret_atoms"
   ]
  },
  {
   "cell_type": "code",
   "execution_count": 2,
   "id": "7fc64e45",
   "metadata": {},
   "outputs": [],
   "source": [
    "from mgktools.hyperparameters import product_pnorm\n",
    "df = pd.read_csv('../datasets/freesolv.csv')\n",
    "smiles_to_be_interpret = 'c1ccccc1CCO'\n",
    "smiles_train = df.smiles\n",
    "targets_train = df['freesolv']\n",
    "n_mol = 10\n",
    "alpha = 0.01\n",
    "mgk_hyperparameters_file = product_pnorm"
   ]
  },
  {
   "cell_type": "markdown",
   "id": "80584c3c",
   "metadata": {},
   "source": [
    "# Interpretation as the sum of the contribution of the molecules in training set"
   ]
  },
  {
   "cell_type": "code",
   "execution_count": 3,
   "id": "f00c6c05",
   "metadata": {},
   "outputs": [
    {
     "name": "stderr",
     "output_type": "stream",
     "text": [
      "[Parallel(n_jobs=1)]: Using backend SequentialBackend with 1 concurrent workers.\n",
      "[Parallel(n_jobs=1)]: Done 642 out of 642 | elapsed:    6.8s finished\n",
      "[Parallel(n_jobs=1)]: Using backend SequentialBackend with 1 concurrent workers.\n",
      "[Parallel(n_jobs=1)]: Done   1 out of   1 | elapsed:    0.0s finished\n"
     ]
    }
   ],
   "source": [
    "y_pred, y_std, df_interpret= interpret_training_mols(\n",
    "    smiles_to_be_interpret, \n",
    "    smiles_train, \n",
    "    targets_train, \n",
    "    alpha=alpha, \n",
    "    n_mol=10, \n",
    "    output_order='sort_by_value', \n",
    "    mgk_hyperparameters_file=mgk_hyperparameters_file,\n",
    "    n_jobs=1)"
   ]
  },
  {
   "cell_type": "code",
   "execution_count": 4,
   "id": "c2b9527c",
   "metadata": {},
   "outputs": [
    {
     "name": "stdout",
     "output_type": "stream",
     "text": [
      "Prediction: -6.767058 +/- 2.045155\n",
      "\n",
      "                               smiles_train  contribution_percentage  \\\n",
      "0                             c1ccc(cc1)CCO                 0.911021   \n",
      "1                            c1ccc(cc1)CCCO                 0.022731   \n",
      "2        c1ccc2c(c1)C(=O)c3cccc(c3C2=O)NCCO                 0.005893   \n",
      "3                              c1ccc(cc1)CO                 0.010677   \n",
      "4  C([C@H]([C@H]([C@@H]([C@@H](CO)O)O)O)O)O                 0.001245   \n",
      "5                        c1ccc(cc1)Cn2ccnc2                 0.003381   \n",
      "6                            c1ccc(cc1)OC=O                 0.006667   \n",
      "7             c1ccc(cc1)n2c(=O)c(c(cn2)N)Cl                 0.001498   \n",
      "8                       CN(C)C(=O)Nc1ccccc1                 0.002258   \n",
      "9                CC(=O)OCC(COC(=O)C)OC(=O)C                 0.002226   \n",
      "\n",
      "   contribution_value  \n",
      "0           -6.185831  \n",
      "1           -0.157299  \n",
      "2           -0.083735  \n",
      "3           -0.070679  \n",
      "4           -0.029413  \n",
      "5           -0.025797  \n",
      "6           -0.025469  \n",
      "7           -0.024611  \n",
      "8           -0.020616  \n",
      "9           -0.019682  \n"
     ]
    }
   ],
   "source": [
    "print('Prediction: %f +/- %f\\n' % (y_pred, y_std * targets_train.std()))\n",
    "print(df_interpret)"
   ]
  },
  {
   "cell_type": "markdown",
   "id": "d118c139",
   "metadata": {},
   "source": [
    "# Interpretation as the sum of the contribution of atoms"
   ]
  },
  {
   "cell_type": "code",
   "execution_count": 5,
   "id": "43156580",
   "metadata": {},
   "outputs": [],
   "source": [
    "y_pred, y_std, mol = interpret_atoms(\n",
    "    smiles_to_be_interpret, \n",
    "    smiles_train, \n",
    "    targets_train, \n",
    "    alpha=alpha, \n",
    "    mgk_hyperparameters_file=mgk_hyperparameters_file)"
   ]
  },
  {
   "cell_type": "code",
   "execution_count": 6,
   "id": "029e0acc",
   "metadata": {},
   "outputs": [
    {
     "name": "stdout",
     "output_type": "stream",
     "text": [
      "Prediction: -6.767275 +/- 0.531916\n",
      "\n"
     ]
    },
    {
     "data": {
      "image/png": "[encoded data removed]",
      "text/plain": [
       "<rdkit.Chem.rdchem.Mol at 0x7f6a41311ba0>"
      ]
     },
     "execution_count": 6,
     "metadata": {},
     "output_type": "execute_result"
    }
   ],
   "source": [
    "print('Prediction: %f +/- %f\\n' % (y_pred, y_std * targets_train.std()))\n",
    "mol"
   ]
  },
  {
   "cell_type": "code",
   "execution_count": null,
   "id": "6e917e41",
   "metadata": {},
   "outputs": [],
   "source": []
  }
 ],
 "metadata": {
  "kernelspec": {
   "display_name": "graph_attribution",
   "language": "python",
   "name": "graph_attribution"
  },
  "language_info": {
   "codemirror_mode": {
    "name": "ipython",
    "version": 3
   },
   "file_extension": ".py",
   "mimetype": "text/x-python",
   "name": "python",
   "nbconvert_exporter": "python",
   "pygments_lexer": "ipython3",
   "version": "3.10.4"
  }
 },
 "nbformat": 4,
 "nbformat_minor": 5
}
