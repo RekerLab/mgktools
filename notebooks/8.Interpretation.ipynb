{
 "cells": [
  {
   "cell_type": "code",
   "execution_count": 1,
   "id": "a8a53106",
   "metadata": {},
   "outputs": [
    {
     "name": "stderr",
     "output_type": "stream",
     "text": [
      "WARNING:root:No normalization for BCUT2D_MWHI\n",
      "WARNING:root:No normalization for BCUT2D_MWLOW\n",
      "WARNING:root:No normalization for BCUT2D_CHGHI\n",
      "WARNING:root:No normalization for BCUT2D_CHGLO\n",
      "WARNING:root:No normalization for BCUT2D_LOGPHI\n",
      "WARNING:root:No normalization for BCUT2D_LOGPLOW\n",
      "WARNING:root:No normalization for BCUT2D_MRHI\n",
      "WARNING:root:No normalization for BCUT2D_MRLOW\n",
      "/home/xiangyan/apps/miniconda3/envs/mgktools/lib/python3.8/site-packages/graphdot/codegen/sympy_printer.py:4: SymPyDeprecationWarning: \n",
      "\n",
      "The sympy.printing.cxxcode submodule is deprecated. It has been renamed to\n",
      "sympy.printing.cxx.\n",
      "\n",
      "See https://docs.sympy.org/latest/explanation/active-deprecations.html#deprecated-printing-code-submodules\n",
      "for details.\n",
      "\n",
      "This has been deprecated since SymPy version 1.7. It\n",
      "will be removed in a future version of SymPy.\n",
      "\n",
      "  from sympy.printing.cxxcode import CXX11CodePrinter\n"
     ]
    }
   ],
   "source": [
    "import rdkit.Chem.AllChem as Chem\n",
    "import json\n",
    "import pandas as pd\n",
    "import numpy as np\n",
    "from mgktools.interpret.interpret import interpret_training_mols, interpret_atoms"
   ]
  },
  {
   "cell_type": "code",
   "execution_count": 2,
   "id": "7fc64e45",
   "metadata": {},
   "outputs": [],
   "source": [
    "df = pd.read_csv('datasets/freesolv.csv')\n",
    "smiles_to_be_interpret = 'c1ccccc1CCO'\n",
    "smiles_train = df.smiles\n",
    "targets_train = df['freesolv']\n",
    "n_mol = 10\n",
    "alpha = float(open('freesolv/hyperopt/additive_pnorm/alpha', 'r').readline())\n",
    "mgk_hyperparameters_file = 'freesolv/hyperopt/additive_pnorm/hyperparameters_0.json'"
   ]
  },
  {
   "cell_type": "markdown",
   "id": "80584c3c",
   "metadata": {},
   "source": [
    "# Interpretation as the sum of the contribution of the molecules in training set"
   ]
  },
  {
   "cell_type": "code",
   "execution_count": 3,
   "id": "f00c6c05",
   "metadata": {},
   "outputs": [
    {
     "name": "stderr",
     "output_type": "stream",
     "text": [
      "[Parallel(n_jobs=6)]: Using backend LokyBackend with 6 concurrent workers.\n",
      "WARNING:root:No normalization for BCUT2D_MWHI\n",
      "WARNING:root:No normalization for BCUT2D_MWLOW\n",
      "WARNING:root:No normalization for BCUT2D_CHGHI\n",
      "WARNING:root:No normalization for BCUT2D_CHGLO\n",
      "WARNING:root:No normalization for BCUT2D_LOGPHI\n",
      "WARNING:root:No normalization for BCUT2D_LOGPLOW\n",
      "WARNING:root:No normalization for BCUT2D_MRHI\n",
      "WARNING:root:No normalization for BCUT2D_MRLOW\n",
      "WARNING:root:No normalization for BCUT2D_MWHI\n",
      "WARNING:root:No normalization for BCUT2D_MWLOW\n",
      "WARNING:root:No normalization for BCUT2D_CHGHI\n",
      "WARNING:root:No normalization for BCUT2D_CHGLO\n",
      "WARNING:root:No normalization for BCUT2D_LOGPHI\n",
      "WARNING:root:No normalization for BCUT2D_LOGPLOW\n",
      "WARNING:root:No normalization for BCUT2D_MRHI\n",
      "WARNING:root:No normalization for BCUT2D_MRLOW\n",
      "WARNING:root:No normalization for BCUT2D_MWHI\n",
      "WARNING:root:No normalization for BCUT2D_MWLOW\n",
      "WARNING:root:No normalization for BCUT2D_CHGHI\n",
      "WARNING:root:No normalization for BCUT2D_CHGLO\n",
      "WARNING:root:No normalization for BCUT2D_LOGPHI\n",
      "WARNING:root:No normalization for BCUT2D_LOGPLOW\n",
      "WARNING:root:No normalization for BCUT2D_MRHI\n",
      "WARNING:root:No normalization for BCUT2D_MRLOW\n",
      "WARNING:root:No normalization for BCUT2D_MWHI\n",
      "WARNING:root:No normalization for BCUT2D_MWLOW\n",
      "WARNING:root:No normalization for BCUT2D_CHGHI\n",
      "WARNING:root:No normalization for BCUT2D_CHGLO\n",
      "WARNING:root:No normalization for BCUT2D_LOGPHI\n",
      "WARNING:root:No normalization for BCUT2D_LOGPLOW\n",
      "WARNING:root:No normalization for BCUT2D_MRHI\n",
      "WARNING:root:No normalization for BCUT2D_MRLOW\n",
      "WARNING:root:No normalization for BCUT2D_MWHI\n",
      "WARNING:root:No normalization for BCUT2D_MWLOW\n",
      "WARNING:root:No normalization for BCUT2D_CHGHI\n",
      "WARNING:root:No normalization for BCUT2D_CHGLO\n",
      "WARNING:root:No normalization for BCUT2D_LOGPHI\n",
      "WARNING:root:No normalization for BCUT2D_LOGPLOW\n",
      "WARNING:root:No normalization for BCUT2D_MRHI\n",
      "WARNING:root:No normalization for BCUT2D_MRLOW\n",
      "WARNING:root:No normalization for BCUT2D_MWHI\n",
      "WARNING:root:No normalization for BCUT2D_MWLOW\n",
      "WARNING:root:No normalization for BCUT2D_CHGHI\n",
      "WARNING:root:No normalization for BCUT2D_CHGLO\n",
      "WARNING:root:No normalization for BCUT2D_LOGPHI\n",
      "WARNING:root:No normalization for BCUT2D_LOGPLOW\n",
      "WARNING:root:No normalization for BCUT2D_MRHI\n",
      "WARNING:root:No normalization for BCUT2D_MRLOW\n",
      "[Parallel(n_jobs=6)]: Done  40 tasks      | elapsed:    1.3s\n",
      "[Parallel(n_jobs=6)]: Done 642 out of 642 | elapsed:    2.9s finished\n",
      "[Parallel(n_jobs=6)]: Using backend LokyBackend with 6 concurrent workers.\n",
      "[Parallel(n_jobs=6)]: Done   1 out of   1 | elapsed:    0.0s finished\n"
     ]
    }
   ],
   "source": [
    "y_pred, y_std, df_interpret= interpret_training_mols(\n",
    "    smiles_to_be_interpret, \n",
    "    smiles_train, \n",
    "    targets_train, \n",
    "    alpha=alpha, \n",
    "    n_mol=10, \n",
    "    output_order='sort_by_value', \n",
    "    mgk_hyperparameters_file=mgk_hyperparameters_file,\n",
    "    n_jobs=6)"
   ]
  },
  {
   "cell_type": "code",
   "execution_count": 4,
   "id": "c2b9527c",
   "metadata": {},
   "outputs": [
    {
     "name": "stdout",
     "output_type": "stream",
     "text": [
      "Prediction: -7.108159 +/- 0.791638\n",
      "\n",
      "                         smiles_train  contribution_percentage  \\\n",
      "0                       c1ccc(cc1)CCO                 0.431749   \n",
      "1                      c1ccc(cc1)CCCO                 0.157089   \n",
      "2                        c1ccc(cc1)CO                 0.127692   \n",
      "3  c1ccc2c(c1)C(=O)c3cccc(c3C2=O)NCCO                 0.032863   \n",
      "4                      CCCc1ccc(cc1)O                 0.059868   \n",
      "5                  CCOC(OCC)Oc1ccccc1                 0.043374   \n",
      "6     C[C@@H](c1ccc(cc1)CC(C)C)C(=O)O                 0.030130   \n",
      "7    CN(C)C(=O)c1ccc(cc1)[N+](=O)[O-]                -0.016587   \n",
      "8                  c1cc(ccc1N)N(=O)=O                 0.019462   \n",
      "9                       COc1cccc(c1)O                 0.023967   \n",
      "\n",
      "   contribution_value  \n",
      "0           -2.931572  \n",
      "1           -1.087053  \n",
      "2           -0.845323  \n",
      "3           -0.466979  \n",
      "4           -0.311915  \n",
      "5           -0.226846  \n",
      "6           -0.210911  \n",
      "7            0.198214  \n",
      "8           -0.191112  \n",
      "9           -0.183584  \n"
     ]
    }
   ],
   "source": [
    "print('Prediction: %f +/- %f\\n' % (y_pred, y_std * targets_train.std()))\n",
    "print(df_interpret)"
   ]
  },
  {
   "cell_type": "markdown",
   "id": "d118c139",
   "metadata": {},
   "source": [
    "# Interpretation as the sum of the contribution of atoms"
   ]
  },
  {
   "cell_type": "code",
   "execution_count": 5,
   "id": "43156580",
   "metadata": {},
   "outputs": [],
   "source": [
    "y_pred, y_std, mol = interpret_atoms(\n",
    "    smiles_to_be_interpret, \n",
    "    smiles_train, \n",
    "    targets_train, \n",
    "    alpha=alpha, \n",
    "    mgk_hyperparameters_file=mgk_hyperparameters_file)"
   ]
  },
  {
   "cell_type": "code",
   "execution_count": 6,
   "id": "029e0acc",
   "metadata": {},
   "outputs": [
    {
     "name": "stdout",
     "output_type": "stream",
     "text": [
      "Prediction: -7.108198 +/- 0.205882\n",
      "\n"
     ]
    },
    {
     "data": {
      "image/png": "[encoded data removed]",
      "text/plain": [
       "<rdkit.Chem.rdchem.Mol at 0x7fb3a60e58e0>"
      ]
     },
     "execution_count": 6,
     "metadata": {},
     "output_type": "execute_result"
    }
   ],
   "source": [
    "print('Prediction: %f +/- %f\\n' % (y_pred, y_std * targets_train.std()))\n",
    "mol"
   ]
  }
 ],
 "metadata": {
  "kernelspec": {
   "display_name": "mgktools",
   "language": "python",
   "name": "mgktools"
  },
  "language_info": {
   "codemirror_mode": {
    "name": "ipython",
    "version": 3
   },
   "file_extension": ".py",
   "mimetype": "text/x-python",
   "name": "python",
   "nbconvert_exporter": "python",
   "pygments_lexer": "ipython3",
   "version": "3.8.13"
  }
 },
 "nbformat": 4,
 "nbformat_minor": 5
}
