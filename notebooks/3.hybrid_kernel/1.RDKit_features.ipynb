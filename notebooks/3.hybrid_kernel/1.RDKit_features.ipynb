{
 "cells": [
  {
   "cell_type": "markdown",
   "id": "769f6071",
   "metadata": {},
   "source": [
    "This notebook shows how to use hybrid kernel, which is tensorproduct of marginalized graph kernel (MGK) and radial basis function (RBF) kernel.\n",
    "\n",
    "For MGK, input is molecular graph.\n",
    "\n",
    "For RBF kernel, input is RDKit features.\n",
    "\n",
    "The hyperparameters are saved in directory freesolv_hyperparameters [1].\n",
    "\n",
    "References:\n",
    "\n",
    "[1] Xiang Y, Tang Y H, Lin G, et al. A comparative study of marginalized graph kernel and message-passing neural network[J]. Journal of Chemical Information and Modeling, 2021, 61(11): 5414-5424."
   ]
  },
  {
   "cell_type": "code",
   "execution_count": 2,
   "id": "d3db4268",
   "metadata": {},
   "outputs": [
    {
     "name": "stderr",
     "output_type": "stream",
     "text": [
      "[Parallel(n_jobs=1)]: Using backend SequentialBackend with 1 concurrent workers.\n",
      "[Parallel(n_jobs=1)]: Done 642 out of 642 | elapsed:  2.7min finished\n"
     ]
    }
   ],
   "source": [
    "import pandas as pd\n",
    "df = pd.read_csv('../datasets/freesolv.csv')\n",
    "from mgktools.data.data import Dataset\n",
    "dataset = Dataset.from_df(\n",
    "    df,\n",
    "    pure_columns = ['smiles'],\n",
    "    target_columns = ['freesolv'],\n",
    "    features_generator = ['rdkit_2d_normalized'],\n",
    "    n_jobs = 1\n",
    ")\n",
    "# Save the dataset as dataset.pkl.\n",
    "import os\n",
    "if not os.path.exists('freesolv'):\n",
    "    os.mkdir('freesolv')\n",
    "dataset.save(path='freesolv', filename='dataset.pkl', overwrite=True)"
   ]
  },
  {
   "cell_type": "code",
   "execution_count": 3,
   "id": "fe157488",
   "metadata": {},
   "outputs": [
    {
     "name": "stderr",
     "output_type": "stream",
     "text": [
      "/home/xiangyan/apps/miniconda3/envs/mgktools/lib/python3.9/site-packages/graphdot/codegen/sympy_printer.py:4: SymPyDeprecationWarning: \n",
      "\n",
      "The sympy.printing.cxxcode submodule is deprecated. It has been renamed to\n",
      "sympy.printing.cxx.\n",
      "\n",
      "See https://docs.sympy.org/latest/explanation/active-deprecations.html#deprecated-printing-code-submodules\n",
      "for details.\n",
      "\n",
      "This has been deprecated since SymPy version 1.7. It\n",
      "will be removed in a future version of SymPy.\n",
      "\n",
      "  from sympy.printing.cxxcode import CXX11CodePrinter\n"
     ]
    }
   ],
   "source": [
    "from mgktools.kernels.utils import get_kernel_config\n",
    "kernel_config = get_kernel_config(\n",
    "    dataset,\n",
    "    graph_kernel_type = 'graph',\n",
    "    # arguments for marginalized graph kernel\n",
    "    mgk_hyperparameters_files = ['freesolv_hyperparameters/hyperparameters_0.json'],\n",
    "    # arguments for RBF kernel\n",
    "    features_hyperparameters_file = 'freesolv_hyperparameters/sigma_RBF.json'\n",
    ")\n",
    "kernel = kernel_config.kernel"
   ]
  },
  {
   "cell_type": "code",
   "execution_count": 7,
   "id": "b817d6c5",
   "metadata": {},
   "outputs": [],
   "source": [
    "dataset.graph_kernel_type = 'graph'\n",
    "kernel_dict = kernel_config.get_kernel_dict(dataset.X, dataset.X_repr.ravel())\n",
    "import os, pickle\n",
    "kernel_pkl = os.path.join('freesolv', 'kernel.pkl')\n",
    "pickle.dump(kernel_dict, open(kernel_pkl, 'wb'), protocol=4)"
   ]
  },
  {
   "cell_type": "code",
   "execution_count": 8,
   "id": "dd21dacf",
   "metadata": {},
   "outputs": [
    {
     "data": {
      "text/plain": [
       "[<matplotlib.lines.Line2D at 0x7f2d6826cc70>]"
      ]
     },
     "execution_count": 8,
     "metadata": {},
     "output_type": "execute_result"
    },
    {
     "data": {
      "image/png": "[encoded data removed]",
      "text/plain": [
       "<Figure size 432x288 with 1 Axes>"
      ]
     },
     "metadata": {
      "needs_background": "light"
     },
     "output_type": "display_data"
    }
   ],
   "source": [
    "kernel_config = get_kernel_config(\n",
    "    dataset,\n",
    "    graph_kernel_type = 'pre-computed',\n",
    "    # arguments for pre-computed kernel\n",
    "    kernel_pkl = 'freesolv/kernel.pkl'\n",
    ")\n",
    "kernel = kernel_config.kernel\n",
    "\n",
    "dataset.graph_kernel_type = 'pre-computed'\n",
    "from mgktools.data import dataset_split\n",
    "train, test = dataset_split(dataset, \n",
    "                            split_type='random',\n",
    "                            sizes=[0.8, 0.2])\n",
    "from mgktools.models.regression.GPRgraphdot.gpr import GPR\n",
    "gpr = GPR(kernel=kernel,\n",
    "          optimizer=None,\n",
    "          alpha=0.01,\n",
    "          normalize_y=True)\n",
    "gpr.fit(train.X, train.y)\n",
    "y_pred = gpr.predict(test.X)\n",
    "import matplotlib.pyplot as plt\n",
    "plt.scatter(test.y, y_pred)\n",
    "plt.plot([-25, 5], [-25, 5])"
   ]
  },
  {
   "cell_type": "code",
   "execution_count": null,
   "id": "c1aca67d",
   "metadata": {},
   "outputs": [],
   "source": []
  }
 ],
 "metadata": {
  "kernelspec": {
   "display_name": "mgktools",
   "language": "python",
   "name": "mgktools"
  },
  "language_info": {
   "codemirror_mode": {
    "name": "ipython",
    "version": 3
   },
   "file_extension": ".py",
   "mimetype": "text/x-python",
   "name": "python",
   "nbconvert_exporter": "python",
   "pygments_lexer": "ipython3",
   "version": "3.9.12"
  }
 },
 "nbformat": 4,
 "nbformat_minor": 5
}
