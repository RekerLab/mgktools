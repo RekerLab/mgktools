{
 "cells": [
  {
   "cell_type": "markdown",
   "id": "8370b03f",
   "metadata": {},
   "source": [
    "This notebook shows how to use hybrid kernel, which is tensorproduct of marginalized graph kernel (MGK) and radial basis function (RBF) kernel.\n",
    "\n",
    "For MGK, the input is molecular graph.\n",
    "\n",
    "For RBF kernel, the input is temperature.\n",
    "\n",
    "This is an example for surface tension."
   ]
  },
  {
   "cell_type": "code",
   "execution_count": 1,
   "id": "fe8ba449",
   "metadata": {},
   "outputs": [
    {
     "name": "stderr",
     "output_type": "stream",
     "text": [
      "WARNING:root:No normalization for BCUT2D_MWHI\n",
      "WARNING:root:No normalization for BCUT2D_MWLOW\n",
      "WARNING:root:No normalization for BCUT2D_CHGHI\n",
      "WARNING:root:No normalization for BCUT2D_CHGLO\n",
      "WARNING:root:No normalization for BCUT2D_LOGPHI\n",
      "WARNING:root:No normalization for BCUT2D_LOGPLOW\n",
      "WARNING:root:No normalization for BCUT2D_MRHI\n",
      "WARNING:root:No normalization for BCUT2D_MRLOW\n",
      "[Parallel(n_jobs=1)]: Using backend SequentialBackend with 1 concurrent workers.\n",
      "[Parallel(n_jobs=1)]: Done 633 out of 633 | elapsed:    6.4s finished\n"
     ]
    }
   ],
   "source": [
    "import pandas as pd\n",
    "df = pd.read_csv('../datasets/slab-sim.csv')\n",
    "from mgktools.data.data import Dataset\n",
    "dataset = Dataset.from_df(\n",
    "    df,\n",
    "    pure_columns = ['smiles'],\n",
    "    feature_columns = ['redT'],\n",
    "    target_columns = ['st'],\n",
    "    group_reading = True,\n",
    "    n_jobs = 1\n",
    ")\n",
    "# Save the dataset as dataset.pkl.\n",
    "import os\n",
    "if not os.path.exists('st'):\n",
    "    os.mkdir('st')\n",
    "dataset.save(path='st', filename='dataset.pkl', overwrite=True)"
   ]
  },
  {
   "cell_type": "code",
   "execution_count": 2,
   "id": "da03058c",
   "metadata": {},
   "outputs": [
    {
     "name": "stderr",
     "output_type": "stream",
     "text": [
      "/home/xiangyan/apps/miniconda3/envs/mgktools/lib/python3.9/site-packages/graphdot/codegen/sympy_printer.py:4: SymPyDeprecationWarning: \n",
      "\n",
      "The sympy.printing.cxxcode submodule is deprecated. It has been renamed to\n",
      "sympy.printing.cxx.\n",
      "\n",
      "See https://docs.sympy.org/latest/explanation/active-deprecations.html#deprecated-printing-code-submodules\n",
      "for details.\n",
      "\n",
      "This has been deprecated since SymPy version 1.7. It\n",
      "will be removed in a future version of SymPy.\n",
      "\n",
      "  from sympy.printing.cxxcode import CXX11CodePrinter\n"
     ]
    }
   ],
   "source": [
    "from mgktools.kernels.utils import get_kernel_config\n",
    "from mgktools.hyperparameters import product_msnorm\n",
    "dataset.graph_kernel_type = 'graph'\n",
    "dataset.set_ignore_features_add(True)\n",
    "kernel_config = get_kernel_config(\n",
    "    dataset,\n",
    "    graph_kernel_type = 'graph',\n",
    "    # arguments for marginalized graph kernel\n",
    "    mgk_hyperparameters_files = [product_msnorm],\n",
    ")\n",
    "kernel = kernel_config.kernel"
   ]
  },
  {
   "cell_type": "code",
   "execution_count": 3,
   "id": "db74c38a",
   "metadata": {},
   "outputs": [],
   "source": [
    "kernel_dict = kernel_config.get_kernel_dict(dataset.X, dataset.X_repr.ravel())\n",
    "import os, pickle\n",
    "kernel_pkl = os.path.join('st', 'kernel.pkl')\n",
    "pickle.dump(kernel_dict, open(kernel_pkl, 'wb'), protocol=4)"
   ]
  },
  {
   "cell_type": "code",
   "execution_count": 4,
   "id": "f461f5ed",
   "metadata": {},
   "outputs": [
    {
     "data": {
      "text/plain": [
       "[<matplotlib.lines.Line2D at 0x7fe359205370>]"
      ]
     },
     "execution_count": 4,
     "metadata": {},
     "output_type": "execute_result"
    },
    {
     "data": {
      "image/png": "[encoded data removed]",
      "text/plain": [
       "<Figure size 432x288 with 1 Axes>"
      ]
     },
     "metadata": {
      "needs_background": "light"
     },
     "output_type": "display_data"
    }
   ],
   "source": [
    "dataset.set_ignore_features_add(False)\n",
    "kernel_config = get_kernel_config(\n",
    "    dataset,\n",
    "    graph_kernel_type = 'pre-computed',\n",
    "    # arguments for pre-computed kernel\n",
    "    kernel_pkl = 'st/kernel.pkl',\n",
    "    features_hyperparameters = [0.1],\n",
    ")\n",
    "kernel = kernel_config.kernel\n",
    "\n",
    "dataset.graph_kernel_type = 'pre-computed'\n",
    "from mgktools.data import dataset_split\n",
    "train, test = dataset_split(dataset, \n",
    "                            split_type='random',\n",
    "                            sizes=[0.8, 0.2])\n",
    "from mgktools.models.regression.GPRgraphdot.gpr import GPR\n",
    "gpr = GPR(kernel=kernel,\n",
    "          optimizer=None,\n",
    "          alpha=0.01,\n",
    "          normalize_y=True)\n",
    "gpr.fit(train.X, train.y)\n",
    "y_pred = gpr.predict(test.X)\n",
    "import matplotlib.pyplot as plt\n",
    "plt.scatter(test.y, y_pred)\n",
    "plt.plot([0, 60], [0, 60])"
   ]
  },
  {
   "cell_type": "code",
   "execution_count": null,
   "id": "c8c88d45",
   "metadata": {},
   "outputs": [],
   "source": []
  }
 ],
 "metadata": {
  "kernelspec": {
   "display_name": "mgktools",
   "language": "python",
   "name": "mgktools"
  },
  "language_info": {
   "codemirror_mode": {
    "name": "ipython",
    "version": 3
   },
   "file_extension": ".py",
   "mimetype": "text/x-python",
   "name": "python",
   "nbconvert_exporter": "python",
   "pygments_lexer": "ipython3",
   "version": "3.9.12"
  }
 },
 "nbformat": 4,
 "nbformat_minor": 5
}
